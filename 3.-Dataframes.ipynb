{
 "cells": [
  {
   "cell_type": "code",
   "execution_count": 1,
   "id": "informative-tackle",
   "metadata": {},
   "outputs": [],
   "source": [
    "from pyspark import SparkContext\n",
    "from pyspark.sql import SparkSession\n",
    "\n",
    "from pyspark.sql.types import StructType,StructField,IntegerType,StringType,FloatType\n",
    "from pyspark.sql.types import Row\n",
    "\n",
    "from pyspark.sql import SQLContext"
   ]
  },
  {
   "cell_type": "code",
   "execution_count": 2,
   "id": "continent-royal",
   "metadata": {},
   "outputs": [],
   "source": [
    "spark = SparkContext(master=\"local\", appName=\"DataFrame\")\n",
    "sqlContext = SQLContext(spark)"
   ]
  },
  {
   "cell_type": "code",
   "execution_count": 3,
   "id": "excessive-updating",
   "metadata": {},
   "outputs": [],
   "source": [
    "path=\"D:\\\\Proyectos Personales\\\\Curso Spark\\\\files\"\n"
   ]
  },
  {
   "cell_type": "code",
   "execution_count": 4,
   "id": "frozen-governor",
   "metadata": {},
   "outputs": [],
   "source": [
    "''' Estructuras Schemas '''\n",
    "\n",
    "deportistaSchema = StructType([\n",
    "    StructField(\"deportista_id\",IntegerType(),False),\n",
    "    StructField(\"nombre\",StringType(),False),\n",
    "    StructField(\"genero\",IntegerType(),False),\n",
    "    StructField(\"edad\",IntegerType(),False),\n",
    "    StructField(\"altura\",IntegerType(),False),\n",
    "    StructField(\"peso\",FloatType(),False),\n",
    "    StructField(\"equipo_id\",IntegerType(),False)  \n",
    "])\n",
    "\n",
    "juegoSchema = StructType([\n",
    "    StructField(\"juego_id\",IntegerType(),False),\n",
    "    StructField(\"nombre_juego\",StringType(),False),\n",
    "    StructField(\"anio\",IntegerType(),False),\n",
    "    StructField(\"temporada\",StringType(),False),  \n",
    "    StructField(\"ciudad\",StringType(),False) \n",
    "])\n",
    "\n",
    "eventoSchema = StructType([\n",
    "    StructField(\"evento_id\",IntegerType(),False),\n",
    "    StructField(\"evento\",StringType(),False),\n",
    "    StructField(\"deporte_id\",IntegerType(),False)\n",
    "\n",
    "])\n",
    "\n",
    "paisSchema = StructType ([\n",
    "    StructField(\"id\",IntegerType(),False),\n",
    "    StructField(\"equipo\",StringType(),False),\n",
    "    StructField(\"sigla\",StringType(),False)\n",
    "\n",
    "])\n",
    "\n",
    "resultadoSchema = StructType ([\n",
    "    StructField(\"resultado_id\",IntegerType(),False),\n",
    "    StructField(\"medalla\",StringType(),False),\n",
    "    StructField(\"deportista_id\",IntegerType(),False),\n",
    "    StructField(\"juego_id\",IntegerType(),False),\n",
    "    StructField(\"evento_id\",IntegerType(),False),\n",
    "\n",
    "])\n",
    "\n",
    "deporteSchema= StructType([\n",
    "    StructField(\"deporte_id\",IntegerType(),False),\n",
    "    StructField(\"deporte\",StringType(),False)\n",
    "])\n"
   ]
  },
  {
   "cell_type": "code",
   "execution_count": 5,
   "metadata": {},
   "outputs": [],
   "source": [
    "\n",
    "deportistaDF = sqlContext.read.schema(deportistaSchema)\\\n",
    ".option(\"header\",\"true\")\\\n",
    ".csv(path+\"\\\\deportista.csv\")\n",
    "\n",
    "juegoDF = sqlContext.read.schema(juegoSchema)\\\n",
    ".option(\"header\",\"true\")\\\n",
    ".csv(path+\"\\\\juegos.csv\")\n",
    "\n",
    "eventoDF = sqlContext.read.schema(eventoSchema)\\\n",
    ".option(\"header\",\"true\")\\\n",
    ".csv(path+\"\\\\evento.csv\")\n",
    "\n",
    "paisDF = sqlContext.read.schema(paisSchema)\\\n",
    ".option(\"header\",\"true\")\\\n",
    ".csv(path+\"\\\\paises.csv\")\n",
    "\n",
    "resultadoDF = sqlContext.read.schema(resultadoSchema)\\\n",
    ".option(\"header\",\"true\")\\\n",
    ".csv(path+\"\\\\resultados.csv\")\n",
    "\n",
    "\n",
    "deporteDF = sqlContext.read.schema(deporteSchema)\\\n",
    ".option(\"header\",\"true\")\\\n",
    ".csv(path+\"\\\\deporte.csv\")"
   ]
  },
  {
   "cell_type": "code",
   "execution_count": 6,
   "id": "natural-print",
   "metadata": {},
   "outputs": [
    {
     "output_type": "stream",
     "name": "stdout",
     "text": [
      "+----------+--------------------+\n|deporte_id|             deporte|\n+----------+--------------------+\n|         1|          Basketball|\n|         2|                Judo|\n|         3|            Football|\n|         4|          Tug-Of-War|\n|         5|       Speed Skating|\n|         6|Cross Country Skiing|\n|         7|           Athletics|\n|         8|          Ice Hockey|\n|         9|            Swimming|\n|        10|           Badminton|\n|        11|             Sailing|\n|        12|            Biathlon|\n|        13|          Gymnastics|\n|        14|    Art Competitions|\n|        15|       Alpine Skiing|\n|        16|            Handball|\n|        17|       Weightlifting|\n|        18|           Wrestling|\n|        19|                Luge|\n|        20|          Water Polo|\n+----------+--------------------+\nonly showing top 20 rows\n\n"
     ]
    }
   ],
   "source": [
    "deporteDF.show()"
   ]
  },
  {
   "cell_type": "code",
   "execution_count": 7,
   "metadata": {},
   "outputs": [
    {
     "output_type": "stream",
     "name": "stdout",
     "text": [
      "root\n |-- deportista_id: integer (nullable = true)\n |-- nombre: string (nullable = true)\n |-- genero: integer (nullable = true)\n |-- edad: integer (nullable = true)\n |-- altura: integer (nullable = true)\n |-- peso: float (nullable = true)\n |-- equipo_id: integer (nullable = true)\n\n"
     ]
    }
   ],
   "source": [
    "deportistaDF.printSchema()"
   ]
  },
  {
   "cell_type": "code",
   "execution_count": 8,
   "metadata": {},
   "outputs": [],
   "source": [
    "deportistaDF =  deportistaDF.withColumnRenamed(\"genero\",\"sexo\").drop(\"altura\")"
   ]
  },
  {
   "cell_type": "code",
   "execution_count": 9,
   "metadata": {},
   "outputs": [],
   "source": [
    "from pyspark.sql.functions import *"
   ]
  },
  {
   "cell_type": "code",
   "execution_count": 10,
   "metadata": {},
   "outputs": [],
   "source": [
    "deportistaDF=deportistaDF.select(\"deportista_id\",\"nombre\",col(\"edad\").alias(\"edadAlJugar\"),\"equipo_id\")"
   ]
  },
  {
   "cell_type": "code",
   "execution_count": null,
   "metadata": {},
   "outputs": [],
   "source": []
  },
  {
   "cell_type": "code",
   "execution_count": 11,
   "metadata": {},
   "outputs": [
    {
     "output_type": "stream",
     "name": "stdout",
     "text": [
      "+-------------+--------------------+-----------+---------+\n|deportista_id|              nombre|edadAlJugar|equipo_id|\n+-------------+--------------------+-----------+---------+\n|            1|           A Dijiang|         24|      199|\n|            2|            A Lamusi|         23|      199|\n|            3| Gunnar Nielsen Aaby|         24|      273|\n|            4|Edgar Lindenau Aabye|         34|      278|\n|            5|Christine Jacoba ...|         21|      705|\n|            6|     Per Knut Aaland|         31|     1096|\n|            7|        John Aalberg|         31|     1096|\n|            8|Cornelia Cor Aalt...|         18|      705|\n|            9|    Antti Sami Aalto|         26|      350|\n|           10|Einar Ferdinand E...|         26|      350|\n|           11|  Jorma Ilmari Aalto|         22|      350|\n|           12|   Jyri Tapani Aalto|         31|      350|\n|           13|  Minna Maarit Aalto|         30|      350|\n|           14|Pirjo Hannele Aal...|         32|      350|\n|           15|Arvo Ossian Aaltonen|         22|      350|\n|           16|Juhamatti Tapio A...|         28|      350|\n|           17|Paavo Johannes Aa...|         28|      350|\n|           18|Timo Antero Aaltonen|         31|      350|\n|           19|Win Valdemar Aalt...|         54|      350|\n|           20|  Kjetil Andr Aamodt|         20|      742|\n+-------------+--------------------+-----------+---------+\nonly showing top 20 rows\n\n"
     ]
    }
   ],
   "source": [
    "deportistaDF.show()"
   ]
  },
  {
   "cell_type": "code",
   "execution_count": 12,
   "metadata": {},
   "outputs": [
    {
     "output_type": "stream",
     "name": "stdout",
     "text": [
      "+-------------+--------------------+-----------+---------+\n|deportista_id|              nombre|edadAlJugar|equipo_id|\n+-------------+--------------------+-----------+---------+\n|          224|     Mohamed AbdelEl|          0|      308|\n|          487|      Inni Aboubacar|          0|      721|\n|          226|Sanad Bushara Abd...|          0|     1003|\n|           58|    Georgi Abadzhiev|          0|      154|\n|          230|    Moustafa Abdelal|          0|      308|\n|          102|   Sayed Fahmy Abaza|          0|      308|\n|          260|  Ahmed Abdo Mustafa|          0|     1003|\n|          139|George Ioannis Abbot|          0|     1043|\n|          281|      S. Abdul Hamid|          0|      487|\n|          163|     Ismail Abdallah|          0|     1095|\n|          285|Talal Hassoun Abd...|          0|      497|\n|          173| Mohamed Abdel Fatah|          0|     1003|\n|          179|Ibrahim Saad Abde...|          0|     1003|\n|          378|     Angelik Abebame|          0|        0|\n|          294|Mohamed Ghulom Ab...|          0|       81|\n|          186| Mohamed Abdel Hafiz|          0|     1095|\n|          300|     A. Abdul Razzak|          0|      497|\n|          190| Ibrahim Abdel Hamid|          0|      308|\n|          301|Mohamed Abdul Razzak|          0|      497|\n|          209|Ibrahim Abdel Rahman|          0|     1095|\n+-------------+--------------------+-----------+---------+\nonly showing top 20 rows\n\n"
     ]
    }
   ],
   "source": [
    "deportistaDF.sort(\"edadAlJugar\").show()"
   ]
  },
  {
   "cell_type": "code",
   "execution_count": 13,
   "metadata": {},
   "outputs": [],
   "source": [
    "deportistaDF = deportistaDF.filter(deportistaDF.edadAlJugar!=0 )"
   ]
  },
  {
   "cell_type": "code",
   "execution_count": 14,
   "metadata": {},
   "outputs": [
    {
     "output_type": "stream",
     "name": "stdout",
     "text": [
      "+-------------+--------------------+-----------+---------+\n|deportista_id|              nombre|edadAlJugar|equipo_id|\n+-------------+--------------------+-----------+---------+\n|        52070|        Etsuko Inada|         11|      514|\n|        22411|Magdalena Cecilia...|         11|      413|\n|        40129|    Luigina Giavotti|         11|      507|\n|        47618|Sonja Henie Toppi...|         11|      742|\n|        37333|Carlos Bienvenido...|         11|      982|\n|        51268|      Beatrice Hutiu|         11|      861|\n|         5291|Marcia Arriaga La...|         12|      656|\n|        24191| Philippe Cuelenaere|         12|       96|\n|        42835|   Werner Grieshofer|         12|       71|\n|        25877|Olga Lucia de Ang...|         12|      225|\n|        31203|Patricia Anne Pat...|         12|      967|\n|        43528|Antoinette Joyce ...|         12|      172|\n|        46578|        Diana Hatler|         12|      825|\n|        48728|      Margery Hinton|         12|      413|\n|        49142|        Jan Hoffmann|         12|      302|\n|        59727|Marika Kilius Zah...|         12|      399|\n|        40296|    Alain C. Giletti|         12|      362|\n|        47506|        Hem Reaksmey|         12|      168|\n|        48939|             Ho Gang|         12|      738|\n|        54620|Belita Gladys Lyn...|         12|      413|\n+-------------+--------------------+-----------+---------+\nonly showing top 20 rows\n\n"
     ]
    }
   ],
   "source": [
    "deportistaDF.sort(\"edadAlJugar\").show()"
   ]
  },
  {
   "cell_type": "code",
   "execution_count": 15,
   "metadata": {},
   "outputs": [
    {
     "output_type": "stream",
     "name": "stdout",
     "text": [
      "root\n |-- deportista_id: integer (nullable = true)\n |-- nombre: string (nullable = true)\n |-- edadAlJugar: integer (nullable = true)\n |-- equipo_id: integer (nullable = true)\n\n"
     ]
    }
   ],
   "source": [
    "deportistaDF.printSchema()"
   ]
  },
  {
   "cell_type": "code",
   "execution_count": 16,
   "metadata": {},
   "outputs": [
    {
     "output_type": "stream",
     "name": "stdout",
     "text": [
      "+--------------------+-------------+-------+-------------+--------------------+\n|              nombre|Edad Al Jugar|medalla| nombre_juego|              evento|\n+--------------------+-------------+-------+-------------+--------------------+\n|           A Dijiang|           24|     NA|  1992 Verano|Basketball Men's ...|\n|            A Lamusi|           23|     NA|  2012 Verano|Judo Men's Extra-...|\n| Gunnar Nielsen Aaby|           24|     NA|  1920 Verano|Football Men's Fo...|\n|Edgar Lindenau Aabye|           34|   Gold|  1900 Verano|Tug-Of-War Men's ...|\n|Christine Jacoba ...|           21|     NA|1994 Invierno|Speed Skating Wom...|\n|Christine Jacoba ...|           21|     NA|1994 Invierno|Speed Skating Wom...|\n|Christine Jacoba ...|           21|     NA|1992 Invierno|Speed Skating Wom...|\n|Christine Jacoba ...|           21|     NA|1992 Invierno|Speed Skating Wom...|\n|Christine Jacoba ...|           21|     NA|1988 Invierno|Speed Skating Wom...|\n|Christine Jacoba ...|           21|     NA|1988 Invierno|Speed Skating Wom...|\n|     Per Knut Aaland|           31|     NA|1994 Invierno|Cross Country Ski...|\n|     Per Knut Aaland|           31|     NA|1994 Invierno|Cross Country Ski...|\n|     Per Knut Aaland|           31|     NA|1994 Invierno|Cross Country Ski...|\n|     Per Knut Aaland|           31|     NA|1994 Invierno|Cross Country Ski...|\n|     Per Knut Aaland|           31|     NA|1992 Invierno|Cross Country Ski...|\n|     Per Knut Aaland|           31|     NA|1992 Invierno|Cross Country Ski...|\n|     Per Knut Aaland|           31|     NA|1992 Invierno|Cross Country Ski...|\n|     Per Knut Aaland|           31|     NA|1992 Invierno|Cross Country Ski...|\n|        John Aalberg|           31|     NA|1994 Invierno|Cross Country Ski...|\n|        John Aalberg|           31|     NA|1994 Invierno|Cross Country Ski...|\n|        John Aalberg|           31|     NA|1994 Invierno|Cross Country Ski...|\n|        John Aalberg|           31|     NA|1994 Invierno|Cross Country Ski...|\n|        John Aalberg|           31|     NA|1992 Invierno|Cross Country Ski...|\n|        John Aalberg|           31|     NA|1992 Invierno|Cross Country Ski...|\n|        John Aalberg|           31|     NA|1992 Invierno|Cross Country Ski...|\n|        John Aalberg|           31|     NA|1992 Invierno|Cross Country Ski...|\n|Cornelia Cor Aalt...|           18|     NA|  1932 Verano|Athletics Women's...|\n|Cornelia Cor Aalt...|           18|     NA|  1932 Verano|Athletics Women's...|\n|    Antti Sami Aalto|           26|     NA|2002 Invierno|Ice Hockey Men's ...|\n|Einar Ferdinand E...|           26|     NA|  1952 Verano|Swimming Men's 40...|\n+--------------------+-------------+-------+-------------+--------------------+\nonly showing top 30 rows\n\n"
     ]
    }
   ],
   "source": [
    "''' Joins '''\n",
    "\n",
    "deportistaDF.join(resultadoDF,\"deportista_id\",\"left\").join(juegoDF,\"juego_id\",\"left\").join(eventoDF,\"evento_id\",\"left\").join(deporteDF,\"deporte_id\",\"left\")\\\n",
    "    .select(\"nombre\",col(\"edadAlJugar\").alias(\"Edad Al Jugar\"),\"medalla\",\"nombre_juego\",\"evento\").show(30)\n",
    "\n",
    "\n"
   ]
  },
  {
   "cell_type": "code",
   "execution_count": 19,
   "metadata": {},
   "outputs": [
    {
     "output_type": "stream",
     "name": "stdout",
     "text": [
      "+------------+-------+-------------+--------+---------+\n",
      "|resultado_id|medalla|deportista_id|juego_id|evento_id|\n",
      "+------------+-------+-------------+--------+---------+\n",
      "|           4|   Gold|            4|       2|        4|\n",
      "|          38| Bronze|           15|       7|       19|\n",
      "|          39| Bronze|           15|       7|       20|\n",
      "|          41| Bronze|           16|      50|       14|\n",
      "|          42| Bronze|           17|      17|       21|\n",
      "|          43|   Gold|           17|      17|       22|\n",
      "|          45|   Gold|           17|      17|       24|\n",
      "|          49|   Gold|           17|      17|       28|\n",
      "|          51| Bronze|           17|      19|       22|\n",
      "|          61|   Gold|           20|      38|       32|\n",
      "+------------+-------+-------------+--------+---------+\n",
      "only showing top 10 rows\n",
      "\n",
      "+---------+-------+\n",
      "|equipo_id|medalla|\n",
      "+---------+-------+\n",
      "|      278|   Gold|\n",
      "|      350| Bronze|\n",
      "|      350| Bronze|\n",
      "|      350| Bronze|\n",
      "|      350| Bronze|\n",
      "|      350|   Gold|\n",
      "|      350|   Gold|\n",
      "|      350|   Gold|\n",
      "|      350| Bronze|\n",
      "|      742|   Gold|\n",
      "+---------+-------+\n",
      "only showing top 10 rows\n",
      "\n",
      "+-------+----------+-----+\n",
      "|medalla|    equipo|sigla|\n",
      "+-------+----------+-----+\n",
      "| Silver|  Zimbabwe|  ZIM|\n",
      "| Silver|  Zimbabwe|  ZIM|\n",
      "|   Gold|  Zimbabwe|  ZIM|\n",
      "|   Gold|  Zimbabwe|  ZIM|\n",
      "|   Gold|  Zimbabwe|  ZIM|\n",
      "|   Gold|  Zimbabwe|  ZIM|\n",
      "|   Gold|  Zimbabwe|  ZIM|\n",
      "|   Gold|  Zimbabwe|  ZIM|\n",
      "|   Gold|  Zimbabwe|  ZIM|\n",
      "| Silver|  Zimbabwe|  ZIM|\n",
      "|   Gold|  Zimbabwe|  ZIM|\n",
      "| Silver|  Zimbabwe|  ZIM|\n",
      "|   Gold|  Zimbabwe|  ZIM|\n",
      "|   Gold|  Zimbabwe|  ZIM|\n",
      "| Bronze|  Zimbabwe|  ZIM|\n",
      "| Bronze|Yugoslavia|  YUG|\n",
      "|   Gold|Yugoslavia|  YUG|\n",
      "| Silver|Yugoslavia|  YUG|\n",
      "| Silver|Yugoslavia|  YUG|\n",
      "| Silver|Yugoslavia|  YUG|\n",
      "+-------+----------+-----+\n",
      "only showing top 20 rows\n",
      "\n"
     ]
    }
   ],
   "source": [
    "\"\"\"Debes crear un join que tenga, todas las medallas ganadoras🎖(solo las ganadoras), unidas con el país y el equipo\n",
    "al cual pertenecen estas medallas\"\"\"\n",
    "\n",
    "ResultadosGanadoresDF=resultadoDF.filter(resultadoDF.medalla != 'NA')\n",
    "ResultadosGanadoresDF.show(10)\n",
    "\n",
    "EquiposGanadoresDF = deportistaDF.join(ResultadosGanadoresDF,\"deportista_id\").select(\"equipo_id\",\"medalla\")\n",
    "EquiposGanadoresDF.show(10)\n",
    "\n",
    "PaisesGanadoresDF = EquiposGanadoresDF.join(paisDF,EquiposGanadoresDF.equipo_id==paisDF.id).select(\"medalla\",\"equipo\",\"sigla\")\n",
    "\n",
    "PaisesGanadoresDF.sort(col(\"sigla\").desc()).show(20)"
   ]
  },
  {
   "cell_type": "code",
   "execution_count": 39,
   "metadata": {},
   "outputs": [
    {
     "output_type": "stream",
     "name": "stdout",
     "text": [
      "+-----+-------------+-------+--------------------+--------------------+--------------------+\n|sigla| nombre_juego|medalla|Nombre subdisciplina|   Nombre disciplina|              nombre|\n+-----+-------------+-------+--------------------+--------------------+--------------------+\n|  CHN|  1992 Verano|     NA|Basketball Men's ...|          Basketball|           A Dijiang|\n|  CHN|  2012 Verano|     NA|Judo Men's Extra-...|                Judo|            A Lamusi|\n|  DEN|  1920 Verano|     NA|Football Men's Fo...|            Football| Gunnar Nielsen Aaby|\n|  SWE|  1900 Verano|   Gold|Tug-Of-War Men's ...|          Tug-Of-War|Edgar Lindenau Aabye|\n|  NED|1994 Invierno|     NA|Speed Skating Wom...|       Speed Skating|Christine Jacoba ...|\n|  NED|1994 Invierno|     NA|Speed Skating Wom...|       Speed Skating|Christine Jacoba ...|\n|  NED|1992 Invierno|     NA|Speed Skating Wom...|       Speed Skating|Christine Jacoba ...|\n|  NED|1992 Invierno|     NA|Speed Skating Wom...|       Speed Skating|Christine Jacoba ...|\n|  NED|1988 Invierno|     NA|Speed Skating Wom...|       Speed Skating|Christine Jacoba ...|\n|  NED|1988 Invierno|     NA|Speed Skating Wom...|       Speed Skating|Christine Jacoba ...|\n|  USA|1994 Invierno|     NA|Cross Country Ski...|Cross Country Skiing|     Per Knut Aaland|\n|  USA|1994 Invierno|     NA|Cross Country Ski...|Cross Country Skiing|     Per Knut Aaland|\n|  USA|1994 Invierno|     NA|Cross Country Ski...|Cross Country Skiing|     Per Knut Aaland|\n|  USA|1994 Invierno|     NA|Cross Country Ski...|Cross Country Skiing|     Per Knut Aaland|\n|  USA|1992 Invierno|     NA|Cross Country Ski...|Cross Country Skiing|     Per Knut Aaland|\n|  USA|1992 Invierno|     NA|Cross Country Ski...|Cross Country Skiing|     Per Knut Aaland|\n|  USA|1992 Invierno|     NA|Cross Country Ski...|Cross Country Skiing|     Per Knut Aaland|\n|  USA|1992 Invierno|     NA|Cross Country Ski...|Cross Country Skiing|     Per Knut Aaland|\n|  USA|1994 Invierno|     NA|Cross Country Ski...|Cross Country Skiing|        John Aalberg|\n|  USA|1994 Invierno|     NA|Cross Country Ski...|Cross Country Skiing|        John Aalberg|\n+-----+-------------+-------+--------------------+--------------------+--------------------+\nonly showing top 20 rows\n\n"
     ]
    }
   ],
   "source": [
    "medallistaXAnio = deportistaDF \\\n",
    "    .join(\n",
    "        resultadoDF, \n",
    "        deportistaDF.deportista_id == resultadoDF.deportista_id, \n",
    "        \"left\"\n",
    "    ) \\\n",
    "    .join(\n",
    "        juegoDF, \n",
    "        juegoDF.juego_id == resultadoDF.juego_id, \n",
    "        \"left\"\n",
    "    ) \\\n",
    "    .join(\n",
    "        paisDF, \n",
    "        deportistaDF.equipo_id == paisDF.id, \n",
    "        \"left\"\n",
    "    ) \\\n",
    "    .join(\n",
    "        eventoDF, \n",
    "        eventoDF.evento_id == resultadoDF.evento_id, \n",
    "        \"left\"\n",
    "    ) \\\n",
    "    .join(\n",
    "        deporteDF, \n",
    "        deporteDF.deporte_id == eventoDF.deporte_id, \n",
    "        \"left\"\n",
    "    ) \\\n",
    "    .select(\n",
    "        \"sigla\",\n",
    "        \"nombre_juego\",\n",
    "        \"medalla\",\n",
    "        eventoDF.evento.alias(\"Nombre subdisciplina\"),\n",
    "        deporteDF.deporte.alias(\"Nombre disciplina\"),\n",
    "        deportistaDF.nombre    \n",
    "    )\n",
    "\n",
    "medallistaXAnio.show()"
   ]
  },
  {
   "cell_type": "code",
   "execution_count": 64,
   "metadata": {},
   "outputs": [],
   "source": [
    "medallistaXAnio2=medallistaXAnio.filter(medallistaXAnio.medalla!='NA')\\\n",
    "                                 .sort(\"nombre_juego\")\\\n",
    "                                 .groupBy(\"sigla\",\"nombre_juego\",\"Nombre subdisciplina\")\\\n",
    "                                 .count()"
   ]
  },
  {
   "cell_type": "code",
   "execution_count": 65,
   "metadata": {},
   "outputs": [
    {
     "output_type": "stream",
     "name": "stdout",
     "text": [
      "+-----+------------+--------------------+-----+\n|sigla|nombre_juego|Nombre subdisciplina|count|\n+-----+------------+--------------------+-----+\n|  USA| 1896 Verano|Athletics Men's 1...|    1|\n|  GER| 1896 Verano|Gymnastics Men's ...|    4|\n|  GER| 1896 Verano|Gymnastics Men's ...|    4|\n|  GBR| 1896 Verano|Tennis Men's Singles|    1|\n|  GBR| 1896 Verano|Tennis Men's Doubles|    1|\n|  USA| 1896 Verano|Athletics Men's 1...|    2|\n|  USA| 1896 Verano|Athletics Men's 4...|    2|\n|  FRA| 1896 Verano|Fencing Men's Foi...|    2|\n|  GRE| 1896 Verano|Tennis Men's Singles|    1|\n|  GRE| 1896 Verano|Tennis Men's Doubles|    1|\n|  USA| 1896 Verano|Athletics Men's H...|    3|\n|  USA| 1896 Verano|Athletics Men's L...|    3|\n|  USA| 1896 Verano|Athletics Men's T...|    1|\n|  USA| 1896 Verano|Athletics Men's 1...|    1|\n|  HUN| 1896 Verano|Athletics Men's 8...|    1|\n|  GBR| 1896 Verano|Weightlifting Men...|    1|\n|  GBR| 1896 Verano|Weightlifting Men...|    1|\n|  AUS| 1896 Verano|Tennis Men's Doubles|    1|\n|  AUS| 1896 Verano|Athletics Men's 8...|    1|\n|  AUS| 1896 Verano|Athletics Men's 1...|    1|\n+-----+------------+--------------------+-----+\nonly showing top 20 rows\n\n"
     ]
    }
   ],
   "source": [
    "medallistaXAnio2.show()"
   ]
  },
  {
   "cell_type": "code",
   "execution_count": 66,
   "metadata": {},
   "outputs": [
    {
     "output_type": "stream",
     "name": "stdout",
     "text": [
      "+-----+------------+-------------+\n|sigla|nombre_juego|TotalMedallas|\n+-----+------------+-------------+\n|  USA| 1896 Verano|           16|\n|  GER| 1896 Verano|           13|\n|  GBR| 1896 Verano|            7|\n|  FRA| 1896 Verano|            5|\n|  GRE| 1896 Verano|            4|\n|  HUN| 1896 Verano|            4|\n|  AUS| 1896 Verano|            3|\n|  AUT| 1896 Verano|            1|\n|  DEN| 1896 Verano|            3|\n|  SWE| 1900 Verano|            2|\n|  USA| 1900 Verano|           41|\n|  FRA| 1900 Verano|           96|\n|  GER| 1900 Verano|           17|\n|  NOR| 1900 Verano|            3|\n|  GBR| 1900 Verano|           42|\n|  HUN| 1900 Verano|            2|\n|  SUI| 1900 Verano|           11|\n|  NED| 1900 Verano|           12|\n|  BEL| 1900 Verano|            8|\n|  ITA| 1900 Verano|            2|\n+-----+------------+-------------+\nonly showing top 20 rows\n\n"
     ]
    }
   ],
   "source": [
    "medallistaXAnioResumen = medallistaXAnio2.groupBy(\"sigla\",\"nombre_juego\")\\\n",
    "    .agg(sum(\"count\").alias(\"TotalMedallas\"))\n",
    "medallistaXAnioResumen.show()"
   ]
  },
  {
   "cell_type": "code",
   "execution_count": 69,
   "metadata": {},
   "outputs": [],
   "source": [
    "resultadoDF.registerTempTable(\"resultado\")\n",
    "deportistaDF.registerTempTable(\"deportista\")\n",
    "paisDF.registerTempTable(\"paises\")"
   ]
  },
  {
   "cell_type": "code",
   "execution_count": 70,
   "metadata": {},
   "outputs": [
    {
     "output_type": "stream",
     "name": "stdout",
     "text": [
      "+-------------+--------------------+-----------+---------+\n|deportista_id|              nombre|edadAlJugar|equipo_id|\n+-------------+--------------------+-----------+---------+\n|            1|           A Dijiang|         24|      199|\n|            2|            A Lamusi|         23|      199|\n|            3| Gunnar Nielsen Aaby|         24|      273|\n|            4|Edgar Lindenau Aabye|         34|      278|\n|            5|Christine Jacoba ...|         21|      705|\n|            6|     Per Knut Aaland|         31|     1096|\n|            7|        John Aalberg|         31|     1096|\n|            8|Cornelia Cor Aalt...|         18|      705|\n|            9|    Antti Sami Aalto|         26|      350|\n|           10|Einar Ferdinand E...|         26|      350|\n|           11|  Jorma Ilmari Aalto|         22|      350|\n|           12|   Jyri Tapani Aalto|         31|      350|\n|           13|  Minna Maarit Aalto|         30|      350|\n|           14|Pirjo Hannele Aal...|         32|      350|\n|           15|Arvo Ossian Aaltonen|         22|      350|\n|           16|Juhamatti Tapio A...|         28|      350|\n|           17|Paavo Johannes Aa...|         28|      350|\n|           18|Timo Antero Aaltonen|         31|      350|\n|           19|Win Valdemar Aalt...|         54|      350|\n|           20|  Kjetil Andr Aamodt|         20|      742|\n+-------------+--------------------+-----------+---------+\nonly showing top 20 rows\n\n"
     ]
    }
   ],
   "source": [
    "sqlContext.sql(\"SELECT * FROM deportista\").show()"
   ]
  },
  {
   "cell_type": "code",
   "execution_count": 77,
   "metadata": {},
   "outputs": [
    {
     "output_type": "stream",
     "name": "stdout",
     "text": [
      "+-------+----------+-----+\n|medalla|    equipo|sigla|\n+-------+----------+-----+\n| Silver|  Zimbabwe|  ZIM|\n| Silver|  Zimbabwe|  ZIM|\n|   Gold|  Zimbabwe|  ZIM|\n|   Gold|  Zimbabwe|  ZIM|\n|   Gold|  Zimbabwe|  ZIM|\n|   Gold|  Zimbabwe|  ZIM|\n|   Gold|  Zimbabwe|  ZIM|\n|   Gold|  Zimbabwe|  ZIM|\n|   Gold|  Zimbabwe|  ZIM|\n| Silver|  Zimbabwe|  ZIM|\n|   Gold|  Zimbabwe|  ZIM|\n| Silver|  Zimbabwe|  ZIM|\n|   Gold|  Zimbabwe|  ZIM|\n|   Gold|  Zimbabwe|  ZIM|\n| Bronze|  Zimbabwe|  ZIM|\n| Bronze|Yugoslavia|  YUG|\n|   Gold|Yugoslavia|  YUG|\n| Silver|Yugoslavia|  YUG|\n| Silver|Yugoslavia|  YUG|\n| Silver|Yugoslavia|  YUG|\n+-------+----------+-----+\nonly showing top 20 rows\n\n"
     ]
    }
   ],
   "source": [
    "sqlContext.sql(\"\"\"\n",
    "               SELECT medalla,equipo,sigla\n",
    "               FROM resultado  r\n",
    "               JOIN deportista d ON r.deportista_id = d.deportista_id\n",
    "               JOIN paises  p ON  p.id = d.equipo_id\n",
    "               WHERE medalla <> 'NA'\n",
    "               ORDER BY sigla DESC\n",
    "\"\"\").show()"
   ]
  },
  {
   "cell_type": "code",
   "execution_count": 78,
   "metadata": {},
   "outputs": [
    {
     "output_type": "execute_result",
     "data": {
      "text/plain": [
       "<SparkContext master=local appName=DataFrame>"
      ],
      "text/html": "\n        <div>\n            <p><b>SparkContext</b></p>\n\n            <p><a href=\"http://LAPTOP-P1VI0EFB:4040\">Spark UI</a></p>\n\n            <dl>\n              <dt>Version</dt>\n                <dd><code>v2.4.7</code></dd>\n              <dt>Master</dt>\n                <dd><code>local</code></dd>\n              <dt>AppName</dt>\n                <dd><code>DataFrame</code></dd>\n            </dl>\n        </div>\n        "
     },
     "metadata": {},
     "execution_count": 78
    }
   ],
   "source": [
    "spark"
   ]
  }
 ],
 "metadata": {
  "kernelspec": {
   "name": "python3",
   "display_name": "Python 3.6.12 64-bit ('py36': conda)",
   "metadata": {
    "interpreter": {
     "hash": "cdc43cf13ac28346dfd0b9b8e49f92e8a7789f355eb73d5678da86ef4a804136"
    }
   }
  },
  "language_info": {
   "codemirror_mode": {
    "name": "ipython",
    "version": 3
   },
   "file_extension": ".py",
   "mimetype": "text/x-python",
   "name": "python",
   "nbconvert_exporter": "python",
   "pygments_lexer": "ipython3",
   "version": "3.6.12-final"
  }
 },
 "nbformat": 4,
 "nbformat_minor": 5
}