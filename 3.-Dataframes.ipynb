{
 "cells": [
  {
   "cell_type": "code",
   "execution_count": 39,
   "id": "informative-tackle",
   "metadata": {},
   "outputs": [],
   "source": [
    "from pyspark import SparkContext\n",
    "from pyspark.sql import SparkSession\n",
    "\n",
    "from pyspark.sql.types import StructType,StructField,IntegerType,StringType,FloatType\n",
    "from pyspark.sql.types import Row\n",
    "\n",
    "from pyspark.sql import SQLContext"
   ]
  },
  {
   "cell_type": "code",
   "execution_count": 40,
   "id": "continent-royal",
   "metadata": {},
   "outputs": [
    {
     "output_type": "error",
     "ename": "ValueError",
     "evalue": "Cannot run multiple SparkContexts at once; existing SparkContext(app=DataFrame, master=local) created by __init__ at <ipython-input-2-7f42945eae83>:1 ",
     "traceback": [
      "\u001b[1;31m---------------------------------------------------------------------------\u001b[0m",
      "\u001b[1;31mValueError\u001b[0m                                Traceback (most recent call last)",
      "\u001b[1;32m<ipython-input-40-7f42945eae83>\u001b[0m in \u001b[0;36m<module>\u001b[1;34m\u001b[0m\n\u001b[1;32m----> 1\u001b[1;33m \u001b[0mspark\u001b[0m \u001b[1;33m=\u001b[0m \u001b[0mSparkContext\u001b[0m\u001b[1;33m(\u001b[0m\u001b[0mmaster\u001b[0m\u001b[1;33m=\u001b[0m\u001b[1;34m\"local\"\u001b[0m\u001b[1;33m,\u001b[0m \u001b[0mappName\u001b[0m\u001b[1;33m=\u001b[0m\u001b[1;34m\"DataFrame\"\u001b[0m\u001b[1;33m)\u001b[0m\u001b[1;33m\u001b[0m\u001b[1;33m\u001b[0m\u001b[0m\n\u001b[0m\u001b[0;32m      2\u001b[0m \u001b[0msqlContext\u001b[0m \u001b[1;33m=\u001b[0m \u001b[0mSQLContext\u001b[0m\u001b[1;33m(\u001b[0m\u001b[0mspark\u001b[0m\u001b[1;33m)\u001b[0m\u001b[1;33m\u001b[0m\u001b[1;33m\u001b[0m\u001b[0m\n",
      "\u001b[1;32m~\\anaconda3\\envs\\py36\\lib\\site-packages\\pyspark\\context.py\u001b[0m in \u001b[0;36m__init__\u001b[1;34m(self, master, appName, sparkHome, pyFiles, environment, batchSize, serializer, conf, gateway, jsc, profiler_cls)\u001b[0m\n\u001b[0;32m    113\u001b[0m         \"\"\"\n\u001b[0;32m    114\u001b[0m         \u001b[0mself\u001b[0m\u001b[1;33m.\u001b[0m\u001b[0m_callsite\u001b[0m \u001b[1;33m=\u001b[0m \u001b[0mfirst_spark_call\u001b[0m\u001b[1;33m(\u001b[0m\u001b[1;33m)\u001b[0m \u001b[1;32mor\u001b[0m \u001b[0mCallSite\u001b[0m\u001b[1;33m(\u001b[0m\u001b[1;32mNone\u001b[0m\u001b[1;33m,\u001b[0m \u001b[1;32mNone\u001b[0m\u001b[1;33m,\u001b[0m \u001b[1;32mNone\u001b[0m\u001b[1;33m)\u001b[0m\u001b[1;33m\u001b[0m\u001b[1;33m\u001b[0m\u001b[0m\n\u001b[1;32m--> 115\u001b[1;33m         \u001b[0mSparkContext\u001b[0m\u001b[1;33m.\u001b[0m\u001b[0m_ensure_initialized\u001b[0m\u001b[1;33m(\u001b[0m\u001b[0mself\u001b[0m\u001b[1;33m,\u001b[0m \u001b[0mgateway\u001b[0m\u001b[1;33m=\u001b[0m\u001b[0mgateway\u001b[0m\u001b[1;33m,\u001b[0m \u001b[0mconf\u001b[0m\u001b[1;33m=\u001b[0m\u001b[0mconf\u001b[0m\u001b[1;33m)\u001b[0m\u001b[1;33m\u001b[0m\u001b[1;33m\u001b[0m\u001b[0m\n\u001b[0m\u001b[0;32m    116\u001b[0m         \u001b[1;32mtry\u001b[0m\u001b[1;33m:\u001b[0m\u001b[1;33m\u001b[0m\u001b[1;33m\u001b[0m\u001b[0m\n\u001b[0;32m    117\u001b[0m             self._do_init(master, appName, sparkHome, pyFiles, environment, batchSize, serializer,\n",
      "\u001b[1;32m~\\anaconda3\\envs\\py36\\lib\\site-packages\\pyspark\\context.py\u001b[0m in \u001b[0;36m_ensure_initialized\u001b[1;34m(cls, instance, gateway, conf)\u001b[0m\n\u001b[0;32m    312\u001b[0m                         \u001b[1;34m\" created by %s at %s:%s \"\u001b[0m\u001b[1;33m\u001b[0m\u001b[1;33m\u001b[0m\u001b[0m\n\u001b[0;32m    313\u001b[0m                         % (currentAppName, currentMaster,\n\u001b[1;32m--> 314\u001b[1;33m                             callsite.function, callsite.file, callsite.linenum))\n\u001b[0m\u001b[0;32m    315\u001b[0m                 \u001b[1;32melse\u001b[0m\u001b[1;33m:\u001b[0m\u001b[1;33m\u001b[0m\u001b[1;33m\u001b[0m\u001b[0m\n\u001b[0;32m    316\u001b[0m                     \u001b[0mSparkContext\u001b[0m\u001b[1;33m.\u001b[0m\u001b[0m_active_spark_context\u001b[0m \u001b[1;33m=\u001b[0m \u001b[0minstance\u001b[0m\u001b[1;33m\u001b[0m\u001b[1;33m\u001b[0m\u001b[0m\n",
      "\u001b[1;31mValueError\u001b[0m: Cannot run multiple SparkContexts at once; existing SparkContext(app=DataFrame, master=local) created by __init__ at <ipython-input-2-7f42945eae83>:1 "
     ]
    }
   ],
   "source": [
    "spark = SparkContext(master=\"local\", appName=\"DataFrame\")\n",
    "sqlContext = SQLContext(spark)"
   ]
  },
  {
   "cell_type": "code",
   "execution_count": 53,
   "id": "excessive-updating",
   "metadata": {},
   "outputs": [],
   "source": [
    "path=\"D:\\\\Proyectos Personales\\\\Curso Spark\\\\files\"\n"
   ]
  },
  {
   "cell_type": "code",
   "execution_count": 54,
   "id": "frozen-governor",
   "metadata": {},
   "outputs": [],
   "source": [
    "''' Estructuras Schemas '''\n",
    "\n",
    "deportistaSchema = StructType([\n",
    "    StructField(\"deportista_id\",IntegerType(),False),\n",
    "    StructField(\"nombre\",StringType(),False),\n",
    "    StructField(\"genero\",IntegerType(),False),\n",
    "    StructField(\"edad\",IntegerType(),False),\n",
    "    StructField(\"altura\",IntegerType(),False),\n",
    "    StructField(\"peso\",FloatType(),False),\n",
    "    StructField(\"equipo_id\",IntegerType(),False)  \n",
    "])\n",
    "\n",
    "juegoSchema = StructType([\n",
    "    StructField(\"juego_id\",IntegerType(),False),\n",
    "    StructField(\"nombre_juego\",StringType(),False),\n",
    "    StructField(\"anio\",IntegerType(),False),\n",
    "    StructField(\"temporada\",StringType(),False),  \n",
    "    StructField(\"ciudad\",StringType(),False) \n",
    "])\n",
    "\n",
    "eventoSchema = StructType([\n",
    "    StructField(\"evento_id\",IntegerType(),False),\n",
    "    StructField(\"evento\",StringType(),False),\n",
    "    StructField(\"deporte_id\",IntegerType(),False)\n",
    "\n",
    "])\n",
    "\n",
    "paisSchema = StructType ([\n",
    "    StructField(\"id\",IntegerType(),False),\n",
    "    StructField(\"equipo\",StringType(),False),\n",
    "    StructField(\"sigla\",StringType(),False)\n",
    "\n",
    "])\n",
    "\n",
    "resultadoSchema = StructType ([\n",
    "    StructField(\"resultado_id\",IntegerType(),False),\n",
    "    StructField(\"medalla\",StringType(),False),\n",
    "    StructField(\"deportista_id\",IntegerType(),False),\n",
    "    StructField(\"juego_id\",IntegerType(),False),\n",
    "    StructField(\"evento_id\",IntegerType(),False),\n",
    "\n",
    "])\n"
   ]
  },
  {
   "cell_type": "code",
   "execution_count": 55,
   "metadata": {},
   "outputs": [],
   "source": [
    "\n",
    "deportistaDF = sqlContext.read.schema(deportistaSchema)\\\n",
    ".option(\"header\",\"true\")\\\n",
    ".csv(path+\"\\\\deportista2.csv\")\n",
    "\n",
    "juegoDF = sqlContext.read.schema(juegoSchema)\\\n",
    ".option(\"header\",\"true\")\\\n",
    ".csv(path+\"\\\\juegos.csv\")\n",
    "\n",
    "eventoDF = sqlContext.read.schema(eventoSchema)\\\n",
    ".option(\"header\",\"true\")\\\n",
    ".csv(path+\"\\\\evento.csv\")\n",
    "\n",
    "paisDF = sqlContext.read.schema(paisSchema)\\\n",
    ".option(\"header\",\"true\")\\\n",
    ".csv(path+\"\\\\paises.csv\")\n",
    "\n",
    "resultadoDF = sqlContext.read.schema(resultadoSchema)\\\n",
    ".option(\"header\",\"true\")\\\n",
    ".csv(path+\"\\\\resultados.csv\")"
   ]
  },
  {
   "cell_type": "code",
   "execution_count": 56,
   "id": "natural-print",
   "metadata": {},
   "outputs": [
    {
     "output_type": "stream",
     "name": "stdout",
     "text": [
      "+-------------+--------------------+------+----+------+----+---------+\n|deportista_id|              nombre|genero|edad|altura|peso|equipo_id|\n+-------------+--------------------+------+----+------+----+---------+\n|        67788|            Lee BuTi|     1|  23|   164|54.0|      203|\n|        67789|Anthony N. Buddy Lee|     1|  34|   172|62.0|     1096|\n|        67790|Alfred A. Butch L...|     1|  19|   186|80.0|      825|\n|        67791|        Lee ByeongGu|     1|  22|   175|68.0|      970|\n|        67792|       Lee ByeongGyu|     1|  21|   185|82.0|      970|\n|        67793|        Lee ByeongIn|     2|  20|   174|69.0|      970|\n|        67794|       Lee ByeongNam|     1|  24|   175|75.0|      970|\n|        67795|      Lee ByeongYong|     1|  29|   197|98.0|      970|\n|        67796|  Kar Wai Calvin Lee|     1|  29|   172|68.0|      470|\n|        67797|          Lee ChaeOn|     1|  25|   188|84.0|      970|\n|        67798|         Lee ChaeWon|     2|  20|   154|49.0|      970|\n|        67799|        Lee Chak Men|     1|   0|   183| 0.0|      929|\n|        67800|        Lee ChanDong|     1|  23|   183|83.0|      970|\n|        67801|        Lee ChangGil|     1|  19|   177|60.0|      970|\n|        67802|         Lee ChangHa|     2|  15|     0| 0.0|      970|\n|        67803|        Lee ChangHun|     1|  21|   170|62.0|      970|\n|        67804|       Lee ChangHwan|     1|  26|   178|78.0|      970|\n|        67805|        Lee ChangMin|     1|  22|   178|74.0|      970|\n|        67806|       Lee ChangSeon|     1|  20|   168|70.0|      970|\n|        67807|         Lee ChangWu|     1|  21|   187|87.0|      970|\n+-------------+--------------------+------+----+------+----+---------+\nonly showing top 20 rows\n\n"
     ]
    }
   ],
   "source": [
    "deportistaDF.show()"
   ]
  },
  {
   "cell_type": "code",
   "execution_count": 57,
   "metadata": {},
   "outputs": [
    {
     "output_type": "stream",
     "name": "stdout",
     "text": [
      "root\n |-- deportista_id: integer (nullable = true)\n |-- nombre: string (nullable = true)\n |-- genero: integer (nullable = true)\n |-- edad: integer (nullable = true)\n |-- altura: integer (nullable = true)\n |-- peso: float (nullable = true)\n |-- equipo_id: integer (nullable = true)\n\n"
     ]
    }
   ],
   "source": [
    "deportistaDF.printSchema()"
   ]
  },
  {
   "cell_type": "code",
   "execution_count": 58,
   "metadata": {},
   "outputs": [],
   "source": [
    "deportistaDF =  deportistaDF.withColumnRenamed(\"genero\",\"sexo\").drop(\"altura\")"
   ]
  },
  {
   "cell_type": "code",
   "execution_count": 59,
   "metadata": {},
   "outputs": [],
   "source": [
    "from pyspark.sql.functions import *"
   ]
  },
  {
   "cell_type": "code",
   "execution_count": 60,
   "metadata": {},
   "outputs": [],
   "source": [
    "deportistaDF=deportistaDF.select(\"deportista_id\",\"nombre\",col(\"edad\").alias(\"edadAlJugar\"),\"equipo_id\")"
   ]
  },
  {
   "cell_type": "code",
   "execution_count": null,
   "metadata": {},
   "outputs": [],
   "source": []
  },
  {
   "cell_type": "code",
   "execution_count": 61,
   "metadata": {},
   "outputs": [
    {
     "output_type": "stream",
     "name": "stdout",
     "text": [
      "+-------------+--------------------+-----------+---------+\n|deportista_id|              nombre|edadAlJugar|equipo_id|\n+-------------+--------------------+-----------+---------+\n|        67788|            Lee BuTi|         23|      203|\n|        67789|Anthony N. Buddy Lee|         34|     1096|\n|        67790|Alfred A. Butch L...|         19|      825|\n|        67791|        Lee ByeongGu|         22|      970|\n|        67792|       Lee ByeongGyu|         21|      970|\n|        67793|        Lee ByeongIn|         20|      970|\n|        67794|       Lee ByeongNam|         24|      970|\n|        67795|      Lee ByeongYong|         29|      970|\n|        67796|  Kar Wai Calvin Lee|         29|      470|\n|        67797|          Lee ChaeOn|         25|      970|\n|        67798|         Lee ChaeWon|         20|      970|\n|        67799|        Lee Chak Men|          0|      929|\n|        67800|        Lee ChanDong|         23|      970|\n|        67801|        Lee ChangGil|         19|      970|\n|        67802|         Lee ChangHa|         15|      970|\n|        67803|        Lee ChangHun|         21|      970|\n|        67804|       Lee ChangHwan|         26|      970|\n|        67805|        Lee ChangMin|         22|      970|\n|        67806|       Lee ChangSeon|         20|      970|\n|        67807|         Lee ChangWu|         21|      970|\n+-------------+--------------------+-----------+---------+\nonly showing top 20 rows\n\n"
     ]
    }
   ],
   "source": [
    "deportistaDF.show()"
   ]
  },
  {
   "cell_type": "code",
   "execution_count": 62,
   "metadata": {},
   "outputs": [
    {
     "output_type": "stream",
     "name": "stdout",
     "text": [
      "+-------------+--------------------+-----------+---------+\n|deportista_id|              nombre|edadAlJugar|equipo_id|\n+-------------+--------------------+-----------+---------+\n|        68312|      Beyene Legesse|          0|      332|\n|        68652|    Adjutant Lemoine|          0|      362|\n|        68315|     Douglas C. Legg|          0|      413|\n|        68302|         Viktor Legt|          0|      259|\n|        68317|      Ronald H. Legg|          0|      413|\n|        67849|          Edward Lee|          0|      199|\n|        68329|        Paul Legrain|          0|      362|\n|        67799|        Lee Chak Men|          0|      929|\n|        68334|        mile Legrand|          0|      364|\n|        67918|        Henry H. Lee|          0|      413|\n|        68336|     Fernand Legrand|          0|      364|\n|        67900|      Lee GyeongSeop|          0|      970|\n|        68337|      Gaston Legrand|          0|      362|\n|        68279|         Jean Lefvre|          0|       96|\n|        68346|            L. Legru|          0|     1008|\n|        68101|         Lee SangHun|          0|      970|\n|        68347|      douard Leguery|          0|      362|\n|        68199|       Lee YeongHwan|          0|      970|\n|        68404|       Kurt Lehrfeld|          0|       71|\n|        68249|John Asa Lawrey Lees|          0|       66|\n+-------------+--------------------+-----------+---------+\nonly showing top 20 rows\n\n"
     ]
    }
   ],
   "source": [
    "deportistaDF.sort(\"edadAlJugar\").show()"
   ]
  },
  {
   "cell_type": "code",
   "execution_count": 63,
   "metadata": {},
   "outputs": [],
   "source": [
    "deportistaDF = deportistaDF.filter(deportistaDF.edadAlJugar!=0 )"
   ]
  },
  {
   "cell_type": "code",
   "execution_count": 64,
   "metadata": {},
   "outputs": [
    {
     "output_type": "stream",
     "name": "stdout",
     "text": [
      "+-------------+--------------------+-----------+---------+\n|deportista_id|              nombre|edadAlJugar|equipo_id|\n+-------------+--------------------+-----------+---------+\n|        71691|  Dimitrios Loundras|         10|      333|\n|        76675|   Marcelle Matthews|         11|      967|\n|        70616|          Liu Luyang|         11|      199|\n|       118925|Megan Olwen Deven...|         11|      413|\n|       126307|        Liana Vicens|         11|      825|\n|        74712|     Carla Marangoni|         12|      507|\n|       113580| Inge Srensen Tabur |         12|      273|\n|       125092|tienne Nol Henri ...|         12|      362|\n|        84913|      Clstine N Drin|         12|      237|\n|        72854|      Licia Macchini|         12|      507|\n|        99362|Antonia Real Horrach|         12|      982|\n|       118832|  Chin Say Molly Tay|         12|      619|\n|       125944|        Ines Vercesi|         12|      507|\n|       127018|Yelena Germanovna...|         12|      978|\n|        74755|Luciana Marcellin...|         12|      507|\n|        96664|Dorothy PoyntonHi...|         12|     1096|\n|        85316|       Ondrej Nepela|         13|      259|\n|        85771|            Nian Yun|         13|      199|\n|        80549|       Shizue Miyabe|         13|      514|\n|        86657|            No JuHui|         13|      970|\n+-------------+--------------------+-----------+---------+\nonly showing top 20 rows\n\n"
     ]
    }
   ],
   "source": [
    "deportistaDF.sort(\"edadAlJugar\").show()"
   ]
  },
  {
   "cell_type": "code",
   "execution_count": null,
   "metadata": {},
   "outputs": [],
   "source": [
    "''' Joins '''\n",
    "\n",
    "deportistaDF.join(resultadoDF,\"deportista_id\")\n",
    "\n",
    "\n"
   ]
  }
 ],
 "metadata": {
  "kernelspec": {
   "display_name": "Python 3",
   "language": "python",
   "name": "python3"
  },
  "language_info": {
   "codemirror_mode": {
    "name": "ipython",
    "version": 3
   },
   "file_extension": ".py",
   "mimetype": "text/x-python",
   "name": "python",
   "nbconvert_exporter": "python",
   "pygments_lexer": "ipython3",
   "version": "3.6.12-final"
  }
 },
 "nbformat": 4,
 "nbformat_minor": 5
}