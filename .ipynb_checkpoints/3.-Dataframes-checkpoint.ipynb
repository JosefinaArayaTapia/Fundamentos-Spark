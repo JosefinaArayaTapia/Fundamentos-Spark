{
 "cells": [
  {
   "cell_type": "code",
   "execution_count": 4,
   "id": "catholic-defendant",
   "metadata": {},
   "outputs": [],
   "source": [
    "from pyspark import SparkContext\n",
    "from pyspark.sql import SparkSession\n",
    "\n",
    "from pyspark.sql.types import StructType,StructField,IntegerType,StringType,FloatType\n",
    "from pyspark.sql.types import Row\n",
    "\n",
    "from pyspark.sql import SQLContext"
   ]
  },
  {
   "cell_type": "code",
   "execution_count": 5,
   "id": "equal-compatibility",
   "metadata": {},
   "outputs": [],
   "source": [
    "spark = SparkContext(master=\"local\", appName=\"DataFrame\")\n",
    "sqlContext = SQLContext(spark)"
   ]
  },
  {
   "cell_type": "code",
   "execution_count": 10,
   "id": "increased-hammer",
   "metadata": {},
   "outputs": [],
   "source": [
    "path=\"D:\\\\Proyectos Personales\\\\Curso Spark\\\\files\"\n"
   ]
  },
  {
   "cell_type": "code",
   "execution_count": 11,
   "id": "entertaining-industry",
   "metadata": {},
   "outputs": [],
   "source": [
    "juegoSchema = StructType([\n",
    "    StructField(\"juego_id\",IntegerType(),False),\n",
    "    StructField(\"nombre_juego\",StringType(),False),\n",
    "    StructField(\"anio\",IntegerType(),False),\n",
    "    StructField(\"temporada\",StringType(),False),  \n",
    "    StructField(\"ciudad\",StringType(),False) \n",
    "])\n",
    "\n",
    "juegoDF = sqlContext.read.schema(juegoSchema)\\\n",
    ".option(\"header\",\"true\")\\\n",
    ".csv(path+\"\\\\juegos.csv\")"
   ]
  },
  {
   "cell_type": "code",
   "execution_count": 13,
   "id": "fallen-winner",
   "metadata": {},
   "outputs": [
    {
     "name": "stdout",
     "output_type": "stream",
     "text": [
      "+--------+-------------+----+---------+--------------------+\n",
      "|juego_id| nombre_juego|anio|temporada|              ciudad|\n",
      "+--------+-------------+----+---------+--------------------+\n",
      "|       1|  1896 Verano|1896|   Verano|              Athina|\n",
      "|       2|  1900 Verano|1900|   Verano|               Paris|\n",
      "|       3|  1904 Verano|1904|   Verano|           St. Louis|\n",
      "|       4|  1906 Verano|1906|   Verano|              Athina|\n",
      "|       5|  1908 Verano|1908|   Verano|              London|\n",
      "|       6|  1912 Verano|1912|   Verano|           Stockholm|\n",
      "|       7|  1920 Verano|1920|   Verano|           Antwerpen|\n",
      "|       8|1924 Invierno|1924| Invierno|            Chamonix|\n",
      "|       9|  1924 Verano|1924|   Verano|               Paris|\n",
      "|      10|1928 Invierno|1928| Invierno|        Sankt Moritz|\n",
      "|      11|  1928 Verano|1928|   Verano|           Amsterdam|\n",
      "|      12|1932 Invierno|1932| Invierno|         Lake Placid|\n",
      "|      13|  1932 Verano|1932|   Verano|         Los Angeles|\n",
      "|      14|1936 Invierno|1936| Invierno|Garmisch-Partenki...|\n",
      "|      15|  1936 Verano|1936|   Verano|              Berlin|\n",
      "|      16|1948 Invierno|1948| Invierno|        Sankt Moritz|\n",
      "|      17|  1948 Verano|1948|   Verano|              London|\n",
      "|      18|1952 Invierno|1952| Invierno|                Oslo|\n",
      "|      19|  1952 Verano|1952|   Verano|            Helsinki|\n",
      "|      20|1956 Invierno|1956| Invierno|   Cortina d'Ampezzo|\n",
      "+--------+-------------+----+---------+--------------------+\n",
      "only showing top 20 rows\n",
      "\n"
     ]
    }
   ],
   "source": [
    "juegoDF.show()"
   ]
  },
  {
   "cell_type": "code",
   "execution_count": 14,
   "id": "confirmed-pitch",
   "metadata": {},
   "outputs": [
    {
     "data": {
      "text/html": [
       "\n",
       "        <div>\n",
       "            <p><b>SparkContext</b></p>\n",
       "\n",
       "            <p><a href=\"http://LAPTOP-P1VI0EFB:4040\">Spark UI</a></p>\n",
       "\n",
       "            <dl>\n",
       "              <dt>Version</dt>\n",
       "                <dd><code>v2.4.7</code></dd>\n",
       "              <dt>Master</dt>\n",
       "                <dd><code>local</code></dd>\n",
       "              <dt>AppName</dt>\n",
       "                <dd><code>DataFrame</code></dd>\n",
       "            </dl>\n",
       "        </div>\n",
       "        "
      ],
      "text/plain": [
       "<SparkContext master=local appName=DataFrame>"
      ]
     },
     "execution_count": 14,
     "metadata": {},
     "output_type": "execute_result"
    }
   ],
   "source": [
    "spark"
   ]
  },
  {
   "cell_type": "code",
   "execution_count": null,
   "id": "possible-replica",
   "metadata": {},
   "outputs": [],
   "source": []
  }
 ],
 "metadata": {
  "kernelspec": {
   "display_name": "Python 3",
   "language": "python",
   "name": "python3"
  },
  "language_info": {
   "codemirror_mode": {
    "name": "ipython",
    "version": 3
   },
   "file_extension": ".py",
   "mimetype": "text/x-python",
   "name": "python",
   "nbconvert_exporter": "python",
   "pygments_lexer": "ipython3",
   "version": "3.6.12"
  }
 },
 "nbformat": 4,
 "nbformat_minor": 5
}
