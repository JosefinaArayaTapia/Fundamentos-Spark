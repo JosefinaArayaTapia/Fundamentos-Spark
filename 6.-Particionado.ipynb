{
 "metadata": {
  "language_info": {
   "codemirror_mode": {
    "name": "ipython",
    "version": 3
   },
   "file_extension": ".py",
   "mimetype": "text/x-python",
   "name": "python",
   "nbconvert_exporter": "python",
   "pygments_lexer": "ipython3",
   "version": "3.6.12-final"
  },
  "orig_nbformat": 2,
  "kernelspec": {
   "name": "python3",
   "display_name": "Python 3",
   "language": "python"
  }
 },
 "nbformat": 4,
 "nbformat_minor": 2,
 "cells": [
  {
   "cell_type": "code",
   "execution_count": 19,
   "metadata": {},
   "outputs": [],
   "source": [
    "from pyspark import SparkContext\n",
    "from pyspark.sql import SparkSession\n",
    "\n",
    "from pyspark.sql.types import StructType,StructField,IntegerType,StringType,FloatType\n",
    "from pyspark.sql.types import Row\n",
    "\n",
    "from pyspark.sql import SQLContext"
   ]
  },
  {
   "cell_type": "code",
   "execution_count": 20,
   "metadata": {},
   "outputs": [],
   "source": [
    "spark = SparkSession.builder \\\n",
    "        .master(\"local[5]\") \\\n",
    "        .appName(\"Particionado\") \\\n",
    "        .getOrCreate()"
   ]
  },
  {
   "cell_type": "code",
   "execution_count": 21,
   "metadata": {},
   "outputs": [],
   "source": [
    "df = spark.range(0,20)"
   ]
  },
  {
   "cell_type": "code",
   "execution_count": 22,
   "metadata": {},
   "outputs": [
    {
     "output_type": "execute_result",
     "data": {
      "text/plain": [
       "5"
      ]
     },
     "metadata": {},
     "execution_count": 22
    }
   ],
   "source": [
    "df.rdd.getNumPartitions()"
   ]
  },
  {
   "cell_type": "code",
   "execution_count": 24,
   "metadata": {},
   "outputs": [
    {
     "output_type": "execute_result",
     "data": {
      "text/plain": [
       "10"
      ]
     },
     "metadata": {},
     "execution_count": 24
    }
   ],
   "source": [
    "rdd1=spark.sparkContext.parallelize((0,20),10)\n",
    "rdd1.getNumPartitions()\n"
   ]
  },
  {
   "cell_type": "code",
   "execution_count": 32,
   "metadata": {},
   "outputs": [],
   "source": [
    "path=\"D:\\\\Proyectos Personales\\\\Curso Spark\\\\files\""
   ]
  },
  {
   "cell_type": "code",
   "execution_count": 35,
   "metadata": {},
   "outputs": [],
   "source": [
    "RddDesdeArchivo = spark.sparkContext.textFile(path+\"\\\\deporte.csv\",10)"
   ]
  },
  {
   "cell_type": "code",
   "execution_count": 36,
   "metadata": {},
   "outputs": [
    {
     "output_type": "execute_result",
     "data": {
      "text/plain": [
       "10"
      ]
     },
     "metadata": {},
     "execution_count": 36
    }
   ],
   "source": [
    "RddDesdeArchivo.getNumPartitions()"
   ]
  },
  {
   "cell_type": "code",
   "execution_count": 38,
   "metadata": {},
   "outputs": [],
   "source": [
    "RddDesdeArchivo.saveAsTextFile(path+\"\\\\Partitions\")"
   ]
  },
  {
   "cell_type": "code",
   "execution_count": 42,
   "metadata": {},
   "outputs": [],
   "source": [
    "rdd = spark.sparkContext.wholeTextFiles(path+\"\\\\Partitions\\\\*\")"
   ]
  },
  {
   "cell_type": "code",
   "execution_count": 43,
   "metadata": {},
   "outputs": [
    {
     "output_type": "execute_result",
     "data": {
      "text/plain": [
       "[('file:/D:/Proyectos Personales/Curso Spark/files/Partitions/part-00000',\n",
       "  'deporte_id,deporte\\n1,Basketball\\n2,Judo\\n3,Football\\n4,Tug-Of-War\\n5,Speed Skating\\n6,Cross Country Skiing\\n'),\n",
       " ('file:/D:/Proyectos Personales/Curso Spark/files/Partitions/part-00001',\n",
       "  '7,Athletics\\n8,Ice Hockey\\n9,Swimming\\n10,Badminton\\n11,Sailing\\n12,Biathlon\\n13,Gymnastics\\n14,Art Competitions\\n'),\n",
       " ('file:/D:/Proyectos Personales/Curso Spark/files/Partitions/part-00002',\n",
       "  '15,Alpine Skiing\\n16,Handball\\n17,Weightlifting\\n18,Wrestling\\n19,Luge\\n20,Water Polo\\n'),\n",
       " ('file:/D:/Proyectos Personales/Curso Spark/files/Partitions/part-00003',\n",
       "  '21,Hockey\\n22,Rowing\\n23,Bobsleigh\\n24,Fencing\\n25,Equestrianism\\n26,Shooting\\n27,Boxing\\n28,Taekwondo\\n'),\n",
       " ('file:/D:/Proyectos Personales/Curso Spark/files/Partitions/part-00004',\n",
       "  '29,Cycling\\n30,Diving\\n31,Canoeing\\n32,Tennis\\n33,Modern Pentathlon\\n34,Figure Skating\\n35,Golf\\n'),\n",
       " ('file:/D:/Proyectos Personales/Curso Spark/files/Partitions/part-00005',\n",
       "  '36,Softball\\n37,Archery\\n38,Volleyball\\n39,Synchronized Swimming\\n40,Table Tennis\\n41,Nordic Combined\\n'),\n",
       " ('file:/D:/Proyectos Personales/Curso Spark/files/Partitions/part-00006',\n",
       "  '42,Baseball\\n43,Rhythmic Gymnastics\\n44,Freestyle Skiing\\n45,Rugby Sevens\\n46,Trampolining\\n47,Beach Volleyball\\n'),\n",
       " ('file:/D:/Proyectos Personales/Curso Spark/files/Partitions/part-00007',\n",
       "  '48,Triathlon\\n49,Ski Jumping\\n50,Curling\\n51,Snowboarding\\n52,Rugby\\n53,Short Track Speed Skating\\n'),\n",
       " ('file:/D:/Proyectos Personales/Curso Spark/files/Partitions/part-00008',\n",
       "  '54,Skeleton\\n55,Lacrosse\\n56,Polo\\n57,Cricket\\n58,Racquets\\n59,Motorboating\\n60,Military Ski Patrol\\n'),\n",
       " ('file:/D:/Proyectos Personales/Curso Spark/files/Partitions/part-00009',\n",
       "  '61,Croquet\\n62,Jeu De Paume\\n63,Roque\\n64,Alpinism\\n65,Basque Pelota\\n66,Aeronautics\\n')]"
      ]
     },
     "metadata": {},
     "execution_count": 43
    }
   ],
   "source": [
    "rdd.take(20)"
   ]
  },
  {
   "cell_type": "code",
   "execution_count": 59,
   "metadata": {},
   "outputs": [],
   "source": [
    "lista  = rdd.mapValues(lambda x: x.split()).collect()"
   ]
  },
  {
   "cell_type": "code",
   "execution_count": 60,
   "metadata": {},
   "outputs": [],
   "source": [
    "lista = [l[0] for l in lista]\n",
    "lista.sort()"
   ]
  },
  {
   "cell_type": "code",
   "execution_count": 61,
   "metadata": {},
   "outputs": [
    {
     "output_type": "execute_result",
     "data": {
      "text/plain": [
       "['file:/D:/Proyectos Personales/Curso Spark/files/Partitions/part-00000',\n",
       " 'file:/D:/Proyectos Personales/Curso Spark/files/Partitions/part-00001',\n",
       " 'file:/D:/Proyectos Personales/Curso Spark/files/Partitions/part-00002',\n",
       " 'file:/D:/Proyectos Personales/Curso Spark/files/Partitions/part-00003',\n",
       " 'file:/D:/Proyectos Personales/Curso Spark/files/Partitions/part-00004',\n",
       " 'file:/D:/Proyectos Personales/Curso Spark/files/Partitions/part-00005',\n",
       " 'file:/D:/Proyectos Personales/Curso Spark/files/Partitions/part-00006',\n",
       " 'file:/D:/Proyectos Personales/Curso Spark/files/Partitions/part-00007',\n",
       " 'file:/D:/Proyectos Personales/Curso Spark/files/Partitions/part-00008',\n",
       " 'file:/D:/Proyectos Personales/Curso Spark/files/Partitions/part-00009']"
      ]
     },
     "metadata": {},
     "execution_count": 61
    }
   ],
   "source": [
    "lista\n"
   ]
  },
  {
   "cell_type": "code",
   "execution_count": 64,
   "metadata": {},
   "outputs": [],
   "source": [
    "rdd3 = spark.sparkContext.textFile(','.join(lista),10).map(lambda x:x.split(\",\"))"
   ]
  },
  {
   "cell_type": "code",
   "execution_count": 66,
   "metadata": {},
   "outputs": [
    {
     "output_type": "execute_result",
     "data": {
      "text/plain": [
       "[['deporte_id', 'deporte'],\n",
       " ['1', 'Basketball'],\n",
       " ['2', 'Judo'],\n",
       " ['3', 'Football'],\n",
       " ['4', 'Tug-Of-War'],\n",
       " ['5', 'Speed Skating'],\n",
       " ['6', 'Cross Country Skiing'],\n",
       " ['7', 'Athletics'],\n",
       " ['8', 'Ice Hockey'],\n",
       " ['9', 'Swimming'],\n",
       " ['10', 'Badminton'],\n",
       " ['11', 'Sailing'],\n",
       " ['12', 'Biathlon'],\n",
       " ['13', 'Gymnastics'],\n",
       " ['14', 'Art Competitions'],\n",
       " ['15', 'Alpine Skiing'],\n",
       " ['16', 'Handball'],\n",
       " ['17', 'Weightlifting'],\n",
       " ['18', 'Wrestling'],\n",
       " ['19', 'Luge'],\n",
       " ['20', 'Water Polo'],\n",
       " ['21', 'Hockey'],\n",
       " ['22', 'Rowing'],\n",
       " ['23', 'Bobsleigh'],\n",
       " ['24', 'Fencing'],\n",
       " ['25', 'Equestrianism'],\n",
       " ['26', 'Shooting'],\n",
       " ['27', 'Boxing'],\n",
       " ['28', 'Taekwondo'],\n",
       " ['29', 'Cycling']]"
      ]
     },
     "metadata": {},
     "execution_count": 66
    }
   ],
   "source": [
    "rdd3.take(30)"
   ]
  },
  {
   "cell_type": "code",
   "execution_count": null,
   "metadata": {},
   "outputs": [],
   "source": []
  },
  {
   "cell_type": "code",
   "execution_count": 18,
   "metadata": {},
   "outputs": [],
   "source": [
    "spark.stop()"
   ]
  }
 ]
}