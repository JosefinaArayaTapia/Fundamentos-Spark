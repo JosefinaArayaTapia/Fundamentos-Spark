{
 "metadata": {
  "language_info": {
   "codemirror_mode": {
    "name": "ipython",
    "version": 3
   },
   "file_extension": ".py",
   "mimetype": "text/x-python",
   "name": "python",
   "nbconvert_exporter": "python",
   "pygments_lexer": "ipython3",
   "version": "3.6.12-final"
  },
  "orig_nbformat": 2,
  "kernelspec": {
   "name": "python3",
   "display_name": "Python 3",
   "language": "python"
  }
 },
 "nbformat": 4,
 "nbformat_minor": 2,
 "cells": [
  {
   "cell_type": "code",
   "execution_count": 2,
   "metadata": {},
   "outputs": [],
   "source": [
    "from pyspark import SparkContext\n",
    "from pyspark.sql import SparkSession\n",
    "\n",
    "from pyspark.sql.types import StructType,StructField,IntegerType,StringType,FloatType\n",
    "from pyspark.sql.types import Row\n",
    "\n",
    "from pyspark.sql import SQLContext"
   ]
  },
  {
   "cell_type": "code",
   "execution_count": 3,
   "metadata": {},
   "outputs": [],
   "source": [
    "spark = SparkContext(master=\"local\", appName=\"DataFrame\")\n",
    "sqlContext = SQLContext(spark)"
   ]
  },
  {
   "cell_type": "code",
   "execution_count": 4,
   "metadata": {},
   "outputs": [],
   "source": [
    "path=\"D:\\\\Proyectos Personales\\\\Curso Spark\\\\files\"\n"
   ]
  },
  {
   "cell_type": "code",
   "execution_count": 6,
   "metadata": {},
   "outputs": [],
   "source": [
    "DeportistaError_schema = StructType([\n",
    "    StructField(\"deportista_id\", StringType(), False),\n",
    "    StructField(\"nombre\", StringType(), False),\n",
    "    StructField(\"genero\", StringType(), False),\n",
    "    StructField(\"edad\", StringType(), False),\n",
    "    StructField(\"altura\", StringType(), False), \n",
    "    StructField(\"peso\", StringType(), False),\n",
    "    StructField(\"equipo_id\", StringType(), False)\n",
    "])\n",
    "\n",
    "DeportistaErrorDF = sqlContext.read.format(\"csv\").\\\n",
    "            option(\"header\", True).\\\n",
    "            schema(DeportistaError_schema).\\\n",
    "            load(path+\"\\\\deportistaError.csv\")"
   ]
  },
  {
   "cell_type": "code",
   "execution_count": 8,
   "metadata": {},
   "outputs": [
    {
     "output_type": "stream",
     "name": "stdout",
     "text": [
      "+-------------+--------------------+------+----+------+----+---------+\n|deportista_id|              nombre|genero|edad|altura|peso|equipo_id|\n+-------------+--------------------+------+----+------+----+---------+\n|            1|           A Dijiang|     1|  24|   180|  80|      199|\n|            2|            A Lamusi|     1|  23|   170|  60|      199|\n|            3| Gunnar Nielsen Aaby|     1|  24|  null|null|      273|\n|            4|Edgar Lindenau Aabye|     1|  34|  null|null|      278|\n|            5|Christine Jacoba ...|     2|  21|   185|  82|      705|\n|            6|     Per Knut Aaland|     1|  31|   188|  75|     1096|\n|            7|        John Aalberg|     1|  31|   183|  72|     1096|\n|            8|\"Cornelia \"\"Cor\"\"...|     2|  18|   168|null|      705|\n|            9|    Antti Sami Aalto|     1|  26|   186|  96|      350|\n|           10|\"Einar Ferdinand ...|     1|  26|  null|null|      350|\n+-------------+--------------------+------+----+------+----+---------+\nonly showing top 10 rows\n\n"
     ]
    }
   ],
   "source": [
    "DeportistaErrorDF.show(10)"
   ]
  },
  {
   "cell_type": "code",
   "execution_count": 12,
   "metadata": {},
   "outputs": [],
   "source": [
    "def conversionEnteros(valor):\n",
    "    return int(valor) if valor else 0\n",
    "\n",
    "def conversionFlotante(valor):\n",
    "    return float(valor) if valor else 0.0"
   ]
  },
  {
   "cell_type": "code",
   "execution_count": 13,
   "metadata": {},
   "outputs": [
    {
     "output_type": "execute_result",
     "data": {
      "text/plain": [
       "<function __main__.<lambda>(z)>"
      ]
     },
     "metadata": {},
     "execution_count": 13
    }
   ],
   "source": [
    "from  pyspark.sql.functions import udf \n",
    "\n",
    "conversionEnteros_udf = udf(lambda z: conversionEnteros(z), IntegerType())\n",
    "sqlContext.udf.register(\"conversionEnteros_udf\", conversionEnteros_udf)\n",
    "\n",
    "conversionFlotante_udf = udf(lambda z: conversionFlotante(z), FloatType())\n",
    "sqlContext.udf.register(\"conversionFlotante_udf\", conversionFlotante_udf)"
   ]
  },
  {
   "cell_type": "code",
   "execution_count": 14,
   "metadata": {},
   "outputs": [
    {
     "output_type": "stream",
     "name": "stdout",
     "text": [
      "+---------+-------+\n|alturaUDF|pesoUDF|\n+---------+-------+\n|      180|   80.0|\n|      170|   60.0|\n|        0|    0.0|\n|        0|    0.0|\n|      185|   82.0|\n|      188|   75.0|\n|      183|   72.0|\n|      168|    0.0|\n|      186|   96.0|\n|        0|    0.0|\n+---------+-------+\nonly showing top 10 rows\n\n"
     ]
    }
   ],
   "source": [
    "DeportistaErrorDF.select(conversionEnteros_udf(\"altura\").alias(\"alturaUDF\"),\\\n",
    "                        conversionFlotante_udf(\"peso\").alias(\"pesoUDF\")).show(10)"
   ]
  },
  {
   "cell_type": "code",
   "execution_count": 27,
   "metadata": {},
   "outputs": [],
   "source": [
    "from pyspark.storagelevel import StorageLevel"
   ]
  },
  {
   "cell_type": "code",
   "execution_count": 28,
   "metadata": {},
   "outputs": [
    {
     "output_type": "execute_result",
     "data": {
      "text/plain": [
       "False"
      ]
     },
     "metadata": {},
     "execution_count": 28
    }
   ],
   "source": [
    "DeportistaErrorDF.is_cached"
   ]
  },
  {
   "cell_type": "code",
   "execution_count": 29,
   "metadata": {},
   "outputs": [
    {
     "output_type": "execute_result",
     "data": {
      "text/plain": [
       "MapPartitionsRDD[15] at javaToPython at <unknown>:0"
      ]
     },
     "metadata": {},
     "execution_count": 29
    }
   ],
   "source": [
    "DeportistaErrorDF.rdd.cache()"
   ]
  },
  {
   "cell_type": "code",
   "execution_count": 30,
   "metadata": {},
   "outputs": [
    {
     "output_type": "execute_result",
     "data": {
      "text/plain": [
       "StorageLevel(False, True, False, False, 1)"
      ]
     },
     "metadata": {},
     "execution_count": 30
    }
   ],
   "source": [
    "DeportistaErrorDF.rdd.getStorageLevel()"
   ]
  },
  {
   "cell_type": "code",
   "execution_count": 31,
   "metadata": {},
   "outputs": [
    {
     "output_type": "execute_result",
     "data": {
      "text/plain": [
       "MapPartitionsRDD[15] at javaToPython at <unknown>:0"
      ]
     },
     "metadata": {},
     "execution_count": 31
    }
   ],
   "source": [
    "DeportistaErrorDF.rdd.unpersist()"
   ]
  },
  {
   "cell_type": "code",
   "execution_count": 32,
   "metadata": {},
   "outputs": [
    {
     "output_type": "execute_result",
     "data": {
      "text/plain": [
       "MapPartitionsRDD[15] at javaToPython at <unknown>:0"
      ]
     },
     "metadata": {},
     "execution_count": 32
    }
   ],
   "source": [
    "DeportistaErrorDF.rdd.persist(StorageLevel.MEMORY_AND_DISK_2)"
   ]
  },
  {
   "cell_type": "code",
   "execution_count": 33,
   "metadata": {},
   "outputs": [
    {
     "output_type": "execute_result",
     "data": {
      "text/plain": [
       "MapPartitionsRDD[15] at javaToPython at <unknown>:0"
      ]
     },
     "metadata": {},
     "execution_count": 33
    }
   ],
   "source": [
    "DeportistaErrorDF.rdd.unpersist()"
   ]
  },
  {
   "cell_type": "code",
   "execution_count": 34,
   "metadata": {},
   "outputs": [],
   "source": [
    "StorageLevel.MEMORY_AND_DISK_3 =StorageLevel(True,True,False,False,3)\n"
   ]
  },
  {
   "cell_type": "code",
   "execution_count": 35,
   "metadata": {},
   "outputs": [
    {
     "output_type": "execute_result",
     "data": {
      "text/plain": [
       "MapPartitionsRDD[15] at javaToPython at <unknown>:0"
      ]
     },
     "metadata": {},
     "execution_count": 35
    }
   ],
   "source": [
    "DeportistaErrorDF.rdd.persist(StorageLevel.MEMORY_AND_DISK_3)"
   ]
  },
  {
   "cell_type": "code",
   "execution_count": 36,
   "metadata": {},
   "outputs": [
    {
     "output_type": "execute_result",
     "data": {
      "text/plain": [
       "StorageLevel(True, True, False, False, 3)"
      ]
     },
     "metadata": {},
     "execution_count": 36
    }
   ],
   "source": [
    "DeportistaErrorDF.rdd.getStorageLevel()"
   ]
  }
 ]
}