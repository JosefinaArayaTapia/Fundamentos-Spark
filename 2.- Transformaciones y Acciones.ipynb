{
 "cells": [
  {
   "cell_type": "code",
   "execution_count": 1,
   "id": "accessible-eclipse",
   "metadata": {},
   "outputs": [],
   "source": [
    "from pyspark import SparkContext"
   ]
  },
  {
   "cell_type": "code",
   "execution_count": 2,
   "id": "noted-principle",
   "metadata": {},
   "outputs": [],
   "source": [
    "sc=SparkContext(master=\"local\",appName=\"transformacionesAcciones\")"
   ]
  },
  {
   "cell_type": "code",
   "execution_count": 3,
   "id": "transsexual-render",
   "metadata": {},
   "outputs": [
    {
     "data": {
      "text/plain": [
       "pyspark.rdd.RDD"
      ]
     },
     "execution_count": 3,
     "metadata": {},
     "output_type": "execute_result"
    }
   ],
   "source": [
    "rdd1=sc.parallelize([1,2,3])\n",
    "type(rdd1)"
   ]
  },
  {
   "cell_type": "code",
   "execution_count": 4,
   "id": "northern-keyboard",
   "metadata": {},
   "outputs": [
    {
     "data": {
      "text/plain": [
       "[1, 2, 3]"
      ]
     },
     "execution_count": 4,
     "metadata": {},
     "output_type": "execute_result"
    }
   ],
   "source": [
    " rdd1.collect()"
   ]
  },
  {
   "cell_type": "code",
   "execution_count": 5,
   "id": "juvenile-significance",
   "metadata": {},
   "outputs": [
    {
     "data": {
      "text/html": [
       "\n",
       "        <div>\n",
       "            <p><b>SparkContext</b></p>\n",
       "\n",
       "            <p><a href=\"http://LAPTOP-P1VI0EFB:4040\">Spark UI</a></p>\n",
       "\n",
       "            <dl>\n",
       "              <dt>Version</dt>\n",
       "                <dd><code>v2.4.7</code></dd>\n",
       "              <dt>Master</dt>\n",
       "                <dd><code>local</code></dd>\n",
       "              <dt>AppName</dt>\n",
       "                <dd><code>transformacionesAcciones</code></dd>\n",
       "            </dl>\n",
       "        </div>\n",
       "        "
      ],
      "text/plain": [
       "<SparkContext master=local appName=transformacionesAcciones>"
      ]
     },
     "execution_count": 5,
     "metadata": {},
     "output_type": "execute_result"
    }
   ],
   "source": [
    "sc"
   ]
  },
  {
   "cell_type": "code",
   "execution_count": 6,
   "id": "packed-deviation",
   "metadata": {},
   "outputs": [
    {
     "name": "stdout",
     "output_type": "stream",
     "text": [
      " El volumen de la unidad D es Datos\n",
      " El número de serie del volumen es: 62E4-5D18\n",
      "\n",
      " Directorio de D:\\Proyectos Personales\\Curso Spark\\files\n",
      "\n",
      "04-02-2021  15:37    <DIR>          .\n",
      "04-02-2021  15:37    <DIR>          ..\n",
      "04-02-2021  15:37             1.013 deporte.csv\n",
      "04-02-2021  15:37         2.832.323 deportista.csv\n",
      "04-02-2021  15:37         2.874.875 deportista2.csv\n",
      "04-02-2021  15:37         2.844.569 deportistaError.csv\n",
      "04-02-2021  15:37            34.028 evento.csv\n",
      "04-02-2021  15:37             2.030 juegos.csv\n",
      "04-02-2021  15:37           255.853 modelo_relacional.jpg\n",
      "04-02-2021  15:37            24.791 paises.csv\n",
      "04-02-2021  15:37         6.443.913 resultados.csv\n",
      "               9 archivos     15.313.395 bytes\n",
      "               2 dirs  524.082.982.912 bytes libres\n"
     ]
    }
   ],
   "source": [
    "!dir \"D:\\Proyectos Personales\\Curso Spark\\files\""
   ]
  },
  {
   "cell_type": "code",
   "execution_count": 7,
   "id": "backed-belize",
   "metadata": {},
   "outputs": [],
   "source": [
    "path=\"D:\\\\Proyectos Personales\\\\Curso Spark\\\\files\"\n",
    "##Cargar Archivo\n",
    "equiposOlimpicosRDD=sc.textFile(path+\"\\paises.csv\") \\\n",
    "                      .map(lambda line : line.split(\",\"))"
   ]
  },
  {
   "cell_type": "code",
   "execution_count": 8,
   "id": "oriented-aircraft",
   "metadata": {},
   "outputs": [
    {
     "data": {
      "text/plain": [
       "[['id', 'equipo', 'sigla'],\n",
       " ['1', '30. Februar', 'AUT'],\n",
       " ['2', 'A North American Team', 'MEX'],\n",
       " ['3', 'Acipactli', 'MEX'],\n",
       " ['4', 'Acturus', 'ARG']]"
      ]
     },
     "execution_count": 8,
     "metadata": {},
     "output_type": "execute_result"
    }
   ],
   "source": [
    "equiposOlimpicosRDD.take(5)"
   ]
  },
  {
   "cell_type": "code",
   "execution_count": 9,
   "id": "every-thinking",
   "metadata": {},
   "outputs": [
    {
     "data": {
      "text/plain": [
       "231"
      ]
     },
     "execution_count": 9,
     "metadata": {},
     "output_type": "execute_result"
    }
   ],
   "source": [
    "equiposOlimpicosRDD.map(lambda x: (x[2])).distinct().count()"
   ]
  },
  {
   "cell_type": "code",
   "execution_count": 10,
   "id": "certified-crash",
   "metadata": {},
   "outputs": [
    {
     "data": {
      "text/plain": [
       "[('sigla', 1), ('AUT', 11), ('MEX', 9), ('ARG', 18), ('AFG', 1)]"
      ]
     },
     "execution_count": 10,
     "metadata": {},
     "output_type": "execute_result"
    }
   ],
   "source": [
    "equiposOlimpicosRDD.map(lambda x : (x[2],x[1])).groupByKey().mapValues(len).take(5)"
   ]
  },
  {
   "cell_type": "code",
   "execution_count": 11,
   "id": "surprised-jenny",
   "metadata": {},
   "outputs": [
    {
     "data": {
      "text/plain": [
       "[('sigla', ['equipo']),\n",
       " ('AUT',\n",
       "  ['30. Februar',\n",
       "   'Austria',\n",
       "   'Austria-1',\n",
       "   'Austria-2',\n",
       "   'Breslau',\n",
       "   'Brigantia',\n",
       "   'Donar III',\n",
       "   'Evita VI',\n",
       "   'May-Be 1960',\n",
       "   '\"R.-V. Germania; Leitmeritz\"',\n",
       "   'Surprise']),\n",
       " ('MEX',\n",
       "  ['A North American Team',\n",
       "   'Acipactli',\n",
       "   'Chamukina',\n",
       "   'Mexico',\n",
       "   'Mexico-1',\n",
       "   'Mexico-2',\n",
       "   'Nausikaa 4',\n",
       "   'Tlaloc',\n",
       "   'Xolotl']),\n",
       " ('ARG',\n",
       "  ['Acturus',\n",
       "   'Antares',\n",
       "   'Arcturus',\n",
       "   'Ardilla',\n",
       "   'Argentina',\n",
       "   'Argentina-1',\n",
       "   'Argentina-2',\n",
       "   'Blue Red',\n",
       "   'Covunco III',\n",
       "   'Cupidon III',\n",
       "   'Djinn',\n",
       "   'Gullvinge',\n",
       "   'Matrero II',\n",
       "   'Mizar',\n",
       "   'Pampero',\n",
       "   'Rampage',\n",
       "   'Tango',\n",
       "   'Wiking']),\n",
       " ('AFG', ['Afghanistan'])]"
      ]
     },
     "execution_count": 11,
     "metadata": {},
     "output_type": "execute_result"
    }
   ],
   "source": [
    "equiposOlimpicosRDD.map(lambda x : (x[2],x[1])).groupByKey().mapValues(list).take(5)"
   ]
  },
  {
   "cell_type": "code",
   "execution_count": 12,
   "id": "black-tongue",
   "metadata": {},
   "outputs": [
    {
     "data": {
      "text/plain": [
       "[['4', 'Acturus', 'ARG'],\n",
       " ['37', 'Antares', 'ARG'],\n",
       " ['42', 'Arcturus', 'ARG'],\n",
       " ['43', 'Ardilla', 'ARG'],\n",
       " ['45', 'Argentina', 'ARG'],\n",
       " ['46', 'Argentina-1', 'ARG'],\n",
       " ['47', 'Argentina-2', 'ARG'],\n",
       " ['119', 'Blue Red', 'ARG'],\n",
       " ['238', 'Covunco III', 'ARG'],\n",
       " ['252', 'Cupidon III', 'ARG'],\n",
       " ['288', 'Djinn', 'ARG'],\n",
       " ['436', 'Gullvinge', 'ARG'],\n",
       " ['644', 'Matrero II', 'ARG'],\n",
       " ['672', 'Mizar', 'ARG'],\n",
       " ['774', 'Pampero', 'ARG'],\n",
       " ['843', 'Rampage', 'ARG'],\n",
       " ['1031', 'Tango', 'ARG'],\n",
       " ['1162', 'Wiking', 'ARG']]"
      ]
     },
     "execution_count": 12,
     "metadata": {},
     "output_type": "execute_result"
    }
   ],
   "source": [
    "equiposArgentinos=equiposOlimpicosRDD.filter(lambda x : \"ARG\" in x[2])\n",
    "equiposArgentinos.collect()"
   ]
  },
  {
   "cell_type": "code",
   "execution_count": 13,
   "id": "medical-strike",
   "metadata": {},
   "outputs": [
    {
     "data": {
      "text/plain": [
       "1185"
      ]
     },
     "execution_count": 13,
     "metadata": {},
     "output_type": "execute_result"
    }
   ],
   "source": [
    "equiposOlimpicosRDD.count()"
   ]
  },
  {
   "cell_type": "code",
   "execution_count": 14,
   "id": "mediterranean-bridge",
   "metadata": {},
   "outputs": [
    {
     "data": {
      "text/plain": [
       "1185"
      ]
     },
     "execution_count": 14,
     "metadata": {},
     "output_type": "execute_result"
    }
   ],
   "source": [
    "equiposOlimpicosRDD.countApprox(20)"
   ]
  },
  {
   "cell_type": "code",
   "execution_count": 35,
   "id": "square-specific",
   "metadata": {},
   "outputs": [],
   "source": [
    "##Cargar Archivo\n",
    "DeportistaOlimpicoRDD=sc.textFile(path+\"\\deportista.csv\") \\\n",
    "                      .map(lambda line : line.split(\",\"))"
   ]
  },
  {
   "cell_type": "code",
   "execution_count": 36,
   "id": "divine-insider",
   "metadata": {},
   "outputs": [],
   "source": [
    "##Cargar Archivo\n",
    "DeportistaOlimpicoRDD2=sc.textFile(path+\"\\deportista2.csv\") \\\n",
    "                      .map(lambda line : line.split(\",\"))"
   ]
  },
  {
   "cell_type": "code",
   "execution_count": 37,
   "id": "digital-carroll",
   "metadata": {},
   "outputs": [],
   "source": [
    "DeportistaOlimpicoRDD=DeportistaOlimpicoRDD\\\n",
    "                      .union(DeportistaOlimpicoRDD2)"
   ]
  },
  {
   "cell_type": "code",
   "execution_count": 38,
   "id": "romantic-while",
   "metadata": {},
   "outputs": [
    {
     "data": {
      "text/plain": [
       "135572"
      ]
     },
     "execution_count": 38,
     "metadata": {},
     "output_type": "execute_result"
    }
   ],
   "source": [
    "DeportistaOlimpicoRDD.count()"
   ]
  },
  {
   "cell_type": "code",
   "execution_count": 39,
   "id": "heated-sellers",
   "metadata": {},
   "outputs": [
    {
     "data": {
      "text/plain": [
       "[['id', 'equipo', 'sigla'], ['999', 'Stella-2', 'NOR']]"
      ]
     },
     "execution_count": 39,
     "metadata": {},
     "output_type": "execute_result"
    }
   ],
   "source": [
    "equiposOlimpicosRDD.top(2)"
   ]
  },
  {
   "cell_type": "code",
   "execution_count": 40,
   "id": "civilian-fundamental",
   "metadata": {},
   "outputs": [
    {
     "data": {
      "text/plain": [
       "[['deportista_id', 'nombre', 'genero', 'edad', 'altura', 'peso', 'equipo_id'],\n",
       " ['99999', 'Alexander Grant Alick Rennie', '1', '32', '182', '71', '967']]"
      ]
     },
     "execution_count": 40,
     "metadata": {},
     "output_type": "execute_result"
    }
   ],
   "source": [
    "DeportistaOlimpicoRDD.top(2)"
   ]
  },
  {
   "cell_type": "code",
   "execution_count": 91,
   "id": "insured-values",
   "metadata": {},
   "outputs": [
    {
     "data": {
      "text/plain": [
       "[('199', (['1', 'A Dijiang', '1', '24', '180', '80'], 'CHN')),\n",
       " ('199', (['2', 'A Lamusi', '1', '23', '170', '60'], 'CHN'))]"
      ]
     },
     "execution_count": 91,
     "metadata": {},
     "output_type": "execute_result"
    }
   ],
   "source": [
    "''' Buscar Ultima Columna para poder hacer el Match  '''\n",
    "DeportistaOlimpicoRDD.map(lambda line: [line[-1],line[:-1]])\\\n",
    "                     .join(equiposOlimpicosRDD.map(lambda e : [e[0],e[2]]))\\\n",
    "                      .take(2)\n",
    "##.takeSample(False,10,25)"
   ]
  },
  {
   "cell_type": "code",
   "execution_count": 86,
   "id": "valid-helen",
   "metadata": {},
   "outputs": [],
   "source": [
    "##Cargar Archivo\n",
    "ResultadoRDD=sc.textFile(path+\"\\\\resultados.csv\")\\\n",
    "                      .map(lambda line : line.split(\",\"))"
   ]
  },
  {
   "cell_type": "code",
   "execution_count": 87,
   "id": "innocent-canadian",
   "metadata": {},
   "outputs": [],
   "source": [
    "ResultadoGanadorRDD=ResultadoRDD.filter(lambda l : 'NA' not in l[1])"
   ]
  },
  {
   "cell_type": "code",
   "execution_count": 88,
   "id": "ecological-visiting",
   "metadata": {},
   "outputs": [
    {
     "data": {
      "text/plain": [
       "[['resultado_id', 'medalla', 'deportista_id', 'juego_id', 'evento_id'],\n",
       " ['4', 'Gold', '4', '2', '4']]"
      ]
     },
     "execution_count": 88,
     "metadata": {},
     "output_type": "execute_result"
    }
   ],
   "source": [
    "ResultadoGanadorRDD.take(2)"
   ]
  },
  {
   "cell_type": "code",
   "execution_count": 94,
   "id": "everyday-danger",
   "metadata": {},
   "outputs": [
    {
     "data": {
      "text/plain": [
       "[('45',\n",
       "  ((['73728', 'Laura Maiztegui', '2', '21', '163', '64'], 'ARG'), 'Silver')),\n",
       " ('470',\n",
       "  ((['85652', 'Ng Wing Nga', '2', '21', '165', '53'], 'HKG'), 'Bronze')),\n",
       " ('55',\n",
       "  ((['87383', 'Hajimurad Nurmagomedov', '1', '25', '173', '84'], 'ARM'),\n",
       "   'Bronze')),\n",
       " ('71',\n",
       "  ((['85485', 'Alexander Neumller', '1', '22', '190', '130'], 'AUT'),\n",
       "   'Silver')),\n",
       " ('273',\n",
       "  ((['54447', 'Sren Marinus Jensen', '1', '26', '0', '0'], 'DEN'), 'Bronze')),\n",
       " ('45',\n",
       "  ((['65650', 'Ral Lujn Labbate', '1', '24', '180', '72'], 'ARG'), 'Silver')),\n",
       " ('45',\n",
       "  ((['37840', 'Jorge Alberto Gaday', '1', '20', '188', '74'], 'ARG'),\n",
       "   'Silver')),\n",
       " ('302',\n",
       "  ((['38369', 'Reiner Ganschow', '1', '27', '184', '85'], 'GDR'), 'Silver')),\n",
       " ('45',\n",
       "  ((['69761', 'Ulf Lienhard', '1', '25', '185', '73'], 'ARG'), 'Silver')),\n",
       " ('71', ((['115657', 'Gnther Stranner', '1', '20', '0', '0'], 'AUT'), 'Gold'))]"
      ]
     },
     "execution_count": 94,
     "metadata": {},
     "output_type": "execute_result"
    }
   ],
   "source": [
    "DeportistaOlimpicoRDD.map(    lambda d : [d[-1], d[:-1]])\\\n",
    ".join(equiposOlimpicosRDD.map(lambda e : [e[0],  e[2]]))\\\n",
    ".join(ResultadoGanadorRDD.map(lambda r : [r[-1], r[1]]))\\\n",
    ".takeSample(False,10,10)"
   ]
  },
  {
   "cell_type": "code",
   "execution_count": null,
   "id": "planned-authorization",
   "metadata": {},
   "outputs": [],
   "source": []
  }
 ],
 "metadata": {
  "kernelspec": {
   "display_name": "Python 3",
   "language": "python",
   "name": "python3"
  },
  "language_info": {
   "codemirror_mode": {
    "name": "ipython",
    "version": 3
   },
   "file_extension": ".py",
   "mimetype": "text/x-python",
   "name": "python",
   "nbconvert_exporter": "python",
   "pygments_lexer": "ipython3",
   "version": "3.6.12"
  }
 },
 "nbformat": 4,
 "nbformat_minor": 5
}
