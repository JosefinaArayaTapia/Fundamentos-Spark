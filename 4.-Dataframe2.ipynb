{
 "cells": [
  {
   "cell_type": "code",
   "execution_count": 1,
   "id": "abandoned-cache",
   "metadata": {},
   "outputs": [],
   "source": [
    "from pyspark import SparkContext\n",
    "from pyspark.sql import SparkSession\n",
    "\n",
    "from pyspark.sql.types import StructType,StructField,IntegerType,StringType,FloatType\n",
    "from pyspark.sql.types import Row\n",
    "\n",
    "from pyspark.sql import SQLContext\n"
   ]
  },
  {
   "cell_type": "code",
   "execution_count": 2,
   "id": "posted-quality",
   "metadata": {},
   "outputs": [],
   "source": [
    "spark = SparkContext(master=\"local\", appName=\"DataFrame\")\n",
    "sqlContext = SQLContext(spark)"
   ]
  },
  {
   "cell_type": "code",
   "execution_count": 3,
   "id": "handy-trace",
   "metadata": {},
   "outputs": [],
   "source": [
    "path=\"D:\\\\Proyectos Personales\\\\Curso Spark\\\\files\"\n"
   ]
  },
  {
   "cell_type": "code",
   "execution_count": null,
   "id": "fundamental-convertible",
   "metadata": {},
   "outputs": [],
   "source": []
  },
  {
   "cell_type": "code",
   "execution_count": 4,
   "id": "flying-calculation",
   "metadata": {},
   "outputs": [],
   "source": [
    "##Cargar Archivo\n",
    "DeportistaOlimpicoRDD=spark.textFile(path+\"\\deportista.csv\") \\\n",
    "                      .map(lambda line : line.split(\",\"))"
   ]
  },
  {
   "cell_type": "code",
   "execution_count": 5,
   "id": "minimal-baking",
   "metadata": {},
   "outputs": [
    {
     "output_type": "execute_result",
     "data": {
      "text/plain": [
       "[['deportista_id', 'nombre', 'genero', 'edad', 'altura', 'peso', 'equipo_id'],\n",
       " ['1', 'A Dijiang', '1', '24', '180', '80', '199'],\n",
       " ['2', 'A Lamusi', '1', '23', '170', '60', '199']]"
      ]
     },
     "metadata": {},
     "execution_count": 5
    }
   ],
   "source": [
    "DeportistaOlimpicoRDD.take(3)"
   ]
  },
  {
   "cell_type": "code",
   "execution_count": 6,
   "id": "otherwise-middle",
   "metadata": {},
   "outputs": [],
   "source": [
    "def eliminaEncabezado(index,iterador):\n",
    "    return iter(list(iterador)[1:])"
   ]
  },
  {
   "cell_type": "code",
   "execution_count": 7,
   "id": "hazardous-orange",
   "metadata": {},
   "outputs": [],
   "source": [
    "DeportistaOlimpicoRDD=DeportistaOlimpicoRDD.mapPartitionsWithIndex(eliminaEncabezado)"
   ]
  },
  {
   "cell_type": "code",
   "execution_count": 8,
   "id": "violent-woman",
   "metadata": {},
   "outputs": [
    {
     "output_type": "execute_result",
     "data": {
      "text/plain": [
       "[['1', 'A Dijiang', '1', '24', '180', '80', '199'],\n",
       " ['2', 'A Lamusi', '1', '23', '170', '60', '199'],\n",
       " ['3', 'Gunnar Nielsen Aaby', '1', '24', '0', '0', '273']]"
      ]
     },
     "metadata": {},
     "execution_count": 8
    }
   ],
   "source": [
    "DeportistaOlimpicoRDD.take(3)"
   ]
  },
  {
   "cell_type": "code",
   "execution_count": 9,
   "id": "invalid-handle",
   "metadata": {},
   "outputs": [],
   "source": [
    "DeportistaOlimpicoRDD=DeportistaOlimpicoRDD.map(lambda l: (\n",
    "    int(l[0]),\n",
    "    l[1],\n",
    "    int(l[2]),\n",
    "    int(l[3]),\n",
    "    int(l[4]),\n",
    "    float(l[5]),\n",
    "    int(l[6])\n",
    "))"
   ]
  },
  {
   "cell_type": "code",
   "execution_count": 10,
   "id": "monetary-branch",
   "metadata": {},
   "outputs": [],
   "source": [
    "schema = StructType([\n",
    "    StructField(\"deportista_id\",IntegerType(),False),\n",
    "    StructField(\"nombre\",StringType(),False),\n",
    "    StructField(\"genero\",IntegerType(),False),\n",
    "    StructField(\"edad\",IntegerType(),False),\n",
    "    StructField(\"altura\",IntegerType(),False),\n",
    "    StructField(\"peso\",FloatType(),False),\n",
    "    StructField(\"equipo_id\",IntegerType(),False)  \n",
    "])"
   ]
  },
  {
   "cell_type": "code",
   "execution_count": 11,
   "id": "featured-access",
   "metadata": {},
   "outputs": [],
   "source": [
    "DeportistaDF= sqlContext.createDataFrame(DeportistaOlimpicoRDD,schema)"
   ]
  },
  {
   "cell_type": "code",
   "execution_count": 12,
   "id": "forward-brown",
   "metadata": {},
   "outputs": [
    {
     "output_type": "stream",
     "name": "stdout",
     "text": [
      "+-------------+--------------------+------+----+------+----+---------+\n|deportista_id|              nombre|genero|edad|altura|peso|equipo_id|\n+-------------+--------------------+------+----+------+----+---------+\n|            1|           A Dijiang|     1|  24|   180|80.0|      199|\n|            2|            A Lamusi|     1|  23|   170|60.0|      199|\n|            3| Gunnar Nielsen Aaby|     1|  24|     0| 0.0|      273|\n|            4|Edgar Lindenau Aabye|     1|  34|     0| 0.0|      278|\n|            5|Christine Jacoba ...|     2|  21|   185|82.0|      705|\n+-------------+--------------------+------+----+------+----+---------+\nonly showing top 5 rows\n\n"
     ]
    }
   ],
   "source": [
    "DeportistaDF.show(5)"
   ]
  },
  {
   "cell_type": "code",
   "execution_count": null,
   "metadata": {},
   "outputs": [],
   "source": []
  },
  {
   "cell_type": "code",
   "execution_count": null,
   "metadata": {},
   "outputs": [],
   "source": []
  }
 ],
 "metadata": {
  "kernelspec": {
   "name": "python3",
   "display_name": "Python 3.6.12 64-bit ('py36': conda)",
   "metadata": {
    "interpreter": {
     "hash": "cdc43cf13ac28346dfd0b9b8e49f92e8a7789f355eb73d5678da86ef4a804136"
    }
   }
  },
  "language_info": {
   "codemirror_mode": {
    "name": "ipython",
    "version": 3
   },
   "file_extension": ".py",
   "mimetype": "text/x-python",
   "name": "python",
   "nbconvert_exporter": "python",
   "pygments_lexer": "ipython3",
   "version": "3.6.12-final"
  }
 },
 "nbformat": 4,
 "nbformat_minor": 5
}